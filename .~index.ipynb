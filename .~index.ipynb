{
 "cells": [
  {
   "cell_type": "markdown",
   "metadata": {},
   "source": [
    "# Nearest Neighbors Lab"
   ]
  },
  {
   "cell_type": "markdown",
   "metadata": {},
   "source": [
    "### Introduction\n",
    "\n",
    "In this lab, you apply nearest neighbors technique to help a taxi company predict the length of their rides.  Imagine that we are hired to consult for LiftOff, a limo and taxi service that is just opening up in NYC.  Liftoff wants it's taxi drivers to target longer rides, as the longer the ride the more money it makes.  LiftOff has the following theory:\n",
    "\n",
    "* the pickup location of a taxi ride can help predict the length of the ride.  \n",
    "\n",
    "\n",
    "\n",
    "LiftOff asks us to do some analysis to write a function that will allow it to **predict the length of a taxi ride for any given location **.\n",
    "\n",
    "Our technique will be the following:\n",
    "  * **Collect** Obtain the data containing all of the taxi information, and only select the attributes of taxi trips that we need \n",
    "  * ** Explore ** Examine the attributes of our data, and plot some of our data on a map\n",
    "  * ** Train ** Write our nearest neighbors formula, and change the number of nearby trips to predict the length of a new trip\n",
    "  * ** Predict ** Use our function to predict trip lengths of new locations"
   ]
  },
  {
   "cell_type": "markdown",
   "metadata": {},
   "source": [
    "### Collect and Explore the data"
   ]
  },
  {
   "cell_type": "markdown",
   "metadata": {},
   "source": [
    "#### Collect the Data"
   ]
  },
  {
   "cell_type": "markdown",
   "metadata": {},
   "source": [
    "Luckily for us, [NYC Open Data](https://opendata.cityofnewyork.us/) collects information about NYC taxi trips and provides this data on [its website](https://data.cityofnewyork.us/Transportation/2014-Yellow-Taxi-Trip-Data/gn7m-em8n)."
   ]
  },
  {
   "cell_type": "markdown",
   "metadata": {},
   "source": [
    "![](./nyc-taxi.png)"
   ]
  },
  {
   "cell_type": "markdown",
   "metadata": {},
   "source": [
    "For your reading pleasure, the data has already been downloaded into the [trips.json](https://github.com/learn-co-curriculum/nearest-neighbors-lab/blob/master/trips.json) file in this lab which you can find here.  We'll use Python's `json` library to take the data from the `trips.json` file and store it as a variable in our notebook."
   ]
  },
  {
   "cell_type": "code",
   "execution_count": 1,
   "metadata": {},
   "outputs": [],
   "source": [
    "import json\n",
    "# First, read the file\n",
    "trips_file = open('trips.json')\n",
    "# Then, convert contents to list of dictionaries \n",
    "trips = json.load(trips_file)"
   ]
  },
  {
   "cell_type": "markdown",
   "metadata": {},
   "source": [
    "> Press shift + enter"
   ]
  },
  {
   "cell_type": "markdown",
   "metadata": {},
   "source": [
    "#### Explore the data"
   ]
  },
  {
   "cell_type": "markdown",
   "metadata": {},
   "source": [
    "The next step is to explore the data.  First, let's see how many trips we have."
   ]
  },
  {
   "cell_type": "code",
   "execution_count": 2,
   "metadata": {},
   "outputs": [
    {
     "data": {
      "text/plain": [
       "1000"
      ]
     },
     "execution_count": 2,
     "metadata": {},
     "output_type": "execute_result"
    }
   ],
   "source": [
    "len(trips)"
   ]
  },
  {
   "cell_type": "markdown",
   "metadata": {},
   "source": [
    "Not bad at all.  Now let's see what each individual trip looks like.  Each trip is a dictionary, so we can see the attributes of each trip with the `keys` function."
   ]
  },
  {
   "cell_type": "code",
   "execution_count": 3,
   "metadata": {
    "scrolled": true
   },
   "outputs": [
    {
     "data": {
      "text/plain": [
       "dict_keys(['dropoff_datetime', 'dropoff_latitude', 'dropoff_longitude', 'fare_amount', 'imp_surcharge', 'mta_tax', 'passenger_count', 'payment_type', 'pickup_datetime', 'pickup_latitude', 'pickup_longitude', 'rate_code', 'tip_amount', 'tolls_amount', 'total_amount', 'trip_distance', 'vendor_id'])"
      ]
     },
     "execution_count": 3,
     "metadata": {},
     "output_type": "execute_result"
    }
   ],
   "source": [
    "trips[0].keys()"
   ]
  },
  {
   "cell_type": "code",
   "execution_count": 4,
   "metadata": {},
   "outputs": [
    {
     "data": {
      "text/plain": [
       "str"
      ]
     },
     "execution_count": 4,
     "metadata": {},
     "output_type": "execute_result"
    }
   ],
   "source": [
    "type('pickup_latitude')"
   ]
  },
  {
   "cell_type": "code",
   "execution_count": 5,
   "metadata": {},
   "outputs": [
    {
     "data": {
      "text/plain": [
       "{'dropoff_datetime': '2014-02-22T17:54:37.000',\n",
       " 'dropoff_latitude': '40.781844999999997',\n",
       " 'dropoff_longitude': '-73.979073',\n",
       " 'fare_amount': '7.5',\n",
       " 'imp_surcharge': '0',\n",
       " 'mta_tax': '0.5',\n",
       " 'passenger_count': '1',\n",
       " 'payment_type': 'CSH',\n",
       " 'pickup_datetime': '2014-02-22T17:47:23.000',\n",
       " 'pickup_latitude': '40.766931',\n",
       " 'pickup_longitude': '-73.982097999999993',\n",
       " 'rate_code': '1',\n",
       " 'store_and_fwd_flag': 'N',\n",
       " 'tip_amount': '0',\n",
       " 'tolls_amount': '0',\n",
       " 'total_amount': '8',\n",
       " 'trip_distance': '1.3',\n",
       " 'vendor_id': 'CMT'}"
      ]
     },
     "execution_count": 5,
     "metadata": {},
     "output_type": "execute_result"
    }
   ],
   "source": [
    "trips[1]"
   ]
  },
  {
   "cell_type": "code",
   "execution_count": 6,
   "metadata": {},
   "outputs": [
    {
     "data": {
      "text/plain": [
       "{'dropoff_datetime': '2014-11-13T11:55:00.000',\n",
       " 'dropoff_latitude': '40.752932000000001',\n",
       " 'dropoff_longitude': '-73.974688',\n",
       " 'fare_amount': '5.5',\n",
       " 'imp_surcharge': '0',\n",
       " 'mta_tax': '0.5',\n",
       " 'passenger_count': '2',\n",
       " 'payment_type': 'CRD',\n",
       " 'pickup_datetime': '2014-11-13T11:50:00.000',\n",
       " 'pickup_latitude': '40.762912',\n",
       " 'pickup_longitude': '-73.967782',\n",
       " 'rate_code': '1',\n",
       " 'tip_amount': '1.1000000000000001',\n",
       " 'tolls_amount': '0',\n",
       " 'total_amount': '7.0999999999999996',\n",
       " 'trip_distance': '0.83999999999999997',\n",
       " 'vendor_id': 'VTS'}"
      ]
     },
     "execution_count": 6,
     "metadata": {},
     "output_type": "execute_result"
    }
   ],
   "source": [
    "trips[4]"
   ]
  },
  {
   "cell_type": "markdown",
   "metadata": {},
   "source": [
    "#### Limit our data"
   ]
  },
  {
   "cell_type": "markdown",
   "metadata": {},
   "source": [
    "Ok, now that we have explored some of our data, let's begin to think through what data is relevant for our task."
   ]
  },
  {
   "cell_type": "markdown",
   "metadata": {
    "collapsed": true
   },
   "source": [
    "Remember that our task is to **use the trip location to predict the length of a trip**.  So let's select the `pickup_latitude`, `pickup_longitude`, and `trip_distance` from each trip.  That will give us the trip location and related `trip_distance` for each trip.  Then based on these **actual** trip distances we can use nearest neighbors to predict an **expected** trip distance for a trip, provided an **actual** location."
   ]
  },
  {
   "cell_type": "markdown",
   "metadata": {},
   "source": [
    "** Add in about trip distance ** "
   ]
  },
  {
   "cell_type": "markdown",
   "metadata": {},
   "source": [
    "Write a function called `parse_trips(trips)` that returns a list of the trips with only the following attributes: \n",
    "* `trip_distance`\n",
    "* `pickup_latitude`\n",
    "* `pickup_longitude`"
   ]
  },
  {
   "cell_type": "code",
   "execution_count": 7,
   "metadata": {},
   "outputs": [],
   "source": [
    "def parse_trips(trips):\n",
    "    return list(map(lambda trip: {'trip_distance': trip['trip_distance'], 'pickup_latitude': trip['pickup_latitude'], 'pickup_longitude': trip['pickup_longitude']}, trips))\n",
    "\n",
    "\n",
    "\n",
    "\n",
    "\n",
    "\n"
   ]
  },
  {
   "cell_type": "code",
   "execution_count": 8,
   "metadata": {},
   "outputs": [
    {
     "data": {
      "text/plain": [
       "{'trip_distance': '18.379999999999999',\n",
       " 'pickup_latitude': '40.64499',\n",
       " 'pickup_longitude': '-73.781149999999997'}"
      ]
     },
     "execution_count": 8,
     "metadata": {},
     "output_type": "execute_result"
    }
   ],
   "source": [
    "parsed_trips = parse_trips(trips)\n",
    "parsed_trips and parsed_trips[0]\n",
    "\n",
    "# {'pickup_latitude': '40.64499',\n",
    "#  'pickup_longitude': '-73.78115',\n",
    "#  'trip_distance': '18.38'}"
   ]
  },
  {
   "cell_type": "code",
   "execution_count": null,
   "metadata": {},
   "outputs": [],
   "source": []
  },
  {
   "cell_type": "markdown",
   "metadata": {},
   "source": [
    "Now, there's just one change to make.  If you look at one of the trips, all of the values are strings.  Let's change them to be floats."
   ]
  },
  {
   "cell_type": "code",
   "execution_count": 9,
   "metadata": {},
   "outputs": [],
   "source": [
    "def float_values(trips):    \n",
    "    return list(map(lambda trip: {'trip_distance': float(trip['trip_distance']), 'pickup_latitude': float(trip['pickup_latitude']), 'pickup_longitude': float(trip['pickup_longitude'])}, trips))\n",
    "\n",
    "\n",
    "\n"
   ]
  },
  {
   "cell_type": "code",
   "execution_count": 10,
   "metadata": {},
   "outputs": [],
   "source": [
    "cleaned_trips = float_values(parsed_trips)"
   ]
  },
  {
   "cell_type": "code",
   "execution_count": 11,
   "metadata": {},
   "outputs": [
    {
     "data": {
      "text/plain": [
       "{'trip_distance': 18.38,\n",
       " 'pickup_latitude': 40.64499,\n",
       " 'pickup_longitude': -73.78115}"
      ]
     },
     "execution_count": 11,
     "metadata": {},
     "output_type": "execute_result"
    }
   ],
   "source": [
    "cleaned_trips[0]\n",
    "\n",
    "# {'pickup_latitude': 40.64499,\n",
    "#  'pickup_longitude': -73.78115,\n",
    "#  'trip_distance': 18.38}"
   ]
  },
  {
   "cell_type": "markdown",
   "metadata": {},
   "source": [
    "### Exploring the Data"
   ]
  },
  {
   "cell_type": "markdown",
   "metadata": {},
   "source": [
    "Now that we have paired down our data, let's get a sense of our trip data.  We can use the `folium` Python library to plot a map of Manhattan, and our data.  First we must import `folium`, and then use the `Map` function to pass through a `location`, and `zoom_start`.  If a map isn't showing up below, copy and paste the command `pip install -r requirements.txt` into your terminal to install `folium` then try again."
   ]
  },
  {
   "cell_type": "code",
   "execution_count": 12,
   "metadata": {},
   "outputs": [],
   "source": [
    "import folium\n",
    "manhattan_map = folium.Map(location=[40.7589, -73.9851], zoom_start=11)"
   ]
  },
  {
   "cell_type": "code",
   "execution_count": 13,
   "metadata": {
    "scrolled": true
   },
   "outputs": [
    {
     "data": {
      "text/html": [
       "<div style=\"width:100%;\"><div style=\"position:relative;width:100%;height:0;padding-bottom:60%;\"><iframe src=\"data:text/html;charset=utf-8;base64,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\" style=\"position:absolute;width:100%;height:100%;left:0;top:0;border:none !important;\" allowfullscreen webkitallowfullscreen mozallowfullscreen></iframe></div></div>"
      ],
      "text/plain": [
       "<folium.folium.Map at 0x7f3f4bfcf828>"
      ]
     },
     "execution_count": 13,
     "metadata": {},
     "output_type": "execute_result"
    }
   ],
   "source": [
    "manhattan_map"
   ]
  },
  {
   "cell_type": "markdown",
   "metadata": {},
   "source": [
    "Ok, now let's see how we could add a dot to mark a specific location.  We'll start with Times Square."
   ]
  },
  {
   "cell_type": "code",
   "execution_count": 14,
   "metadata": {
    "scrolled": true
   },
   "outputs": [
    {
     "data": {
      "text/plain": [
       "<folium.vector_layers.CircleMarker at 0x7f3f1e7f4b00>"
      ]
     },
     "execution_count": 14,
     "metadata": {},
     "output_type": "execute_result"
    }
   ],
   "source": [
    "marker = folium.CircleMarker(location = [40.7589, -73.9851], radius=10)\n",
    "marker.add_to(manhattan_map)"
   ]
  },
  {
   "cell_type": "markdown",
   "metadata": {},
   "source": [
    "Above, we first create a marker.  Then we add that circle marker to the `manhattan_map` we created earlier. "
   ]
  },
  {
   "cell_type": "code",
   "execution_count": 15,
   "metadata": {
    "scrolled": false
   },
   "outputs": [
    {
     "data": {
      "text/html": [
       "<div style=\"width:100%;\"><div style=\"position:relative;width:100%;height:0;padding-bottom:60%;\"><iframe src=\"data:text/html;charset=utf-8;base64,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\" style=\"position:absolute;width:100%;height:100%;left:0;top:0;border:none !important;\" allowfullscreen webkitallowfullscreen mozallowfullscreen></iframe></div></div>"
      ],
      "text/plain": [
       "<folium.folium.Map at 0x7f3f4bfcf828>"
      ]
     },
     "execution_count": 15,
     "metadata": {},
     "output_type": "execute_result"
    }
   ],
   "source": [
    "manhattan_map"
   ]
  },
  {
   "cell_type": "markdown",
   "metadata": {},
   "source": [
    "Do you see that blue dot near Time's Square?  That is our marker.  \n",
    "\n",
    "So now that we can plot one marker on a map, we should have a sense of how we can plot many markers on a map to display our taxi ride data.  We simply plot a map, and then we add a marker for each location of a taxi trip.\n",
    "\n",
    "Now let's write some functions to allow us to plot maps and add markers a little more easily.  "
   ]
  },
  {
   "cell_type": "markdown",
   "metadata": {},
   "source": [
    "#### Writing some map plotting functions"
   ]
  },
  {
   "cell_type": "markdown",
   "metadata": {},
   "source": [
    "As a first step towards this, note that the functions to create both a marker and map each take in a location as two element list, representing the latitude and longitude values.  Take another look:\n",
    "\n",
    "```python\n",
    "marker = folium.CircleMarker(location = [40.7589, -73.9851])\n",
    "manhattan_map = folium.Map(location=[40.7589, -73.9851])\n",
    "```\n",
    "\n",
    "So let's write a function called to create this two element list from a trip.  Write a function called `location` that  takes in a trip as an argument and returns a list where the first element is the latitude and the second is the longitude.  Remember that a location looks like the following:"
   ]
  },
  {
   "cell_type": "code",
   "execution_count": 16,
   "metadata": {},
   "outputs": [
    {
     "data": {
      "text/plain": [
       "{'pickup_latitude': 40.64499,\n",
       " 'pickup_longitude': -73.78115,\n",
       " 'trip_distance': 18.38}"
      ]
     },
     "execution_count": 16,
     "metadata": {},
     "output_type": "execute_result"
    }
   ],
   "source": [
    "first_trip = {'pickup_latitude': 40.64499, 'pickup_longitude': -73.78115,  'trip_distance': 18.38}\n",
    "first_trip"
   ]
  },
  {
   "cell_type": "code",
   "execution_count": 17,
   "metadata": {},
   "outputs": [],
   "source": [
    "def location(trip):\n",
    "    location = []\n",
    "    location = [trip['pickup_latitude'], trip['pickup_longitude']]\n",
    "    return location"
   ]
  },
  {
   "cell_type": "code",
   "execution_count": 18,
   "metadata": {},
   "outputs": [
    {
     "data": {
      "text/plain": [
       "[40.64499, -73.78115]"
      ]
     },
     "execution_count": 18,
     "metadata": {},
     "output_type": "execute_result"
    }
   ],
   "source": [
    "first_location = location(first_trip) # [40.64499, -73.78115]\n",
    "first_location # [40.64499, -73.78115]"
   ]
  },
  {
   "cell_type": "markdown",
   "metadata": {},
   "source": [
    "Ok, now that we can turn a trip into a location, let's turn a location into a marker.  Write a function called `to_marker` that takes in a location (in the form of a list) as an argument, and returns a folium `circleMarker` for that location.  The radius of the marker should always equal 6."
   ]
  },
  {
   "cell_type": "code",
   "execution_count": 24,
   "metadata": {},
   "outputs": [
    {
     "data": {
      "text/plain": [
       "<folium.vector_layers.CircleMarker at 0x7f3f1e3f1160>"
      ]
     },
     "execution_count": 24,
     "metadata": {},
     "output_type": "execute_result"
    }
   ],
   "source": [
    "def to_marker(location):\n",
    "    for trip in trips: \n",
    "        marker_location = folium.CircleMarker(location = [trip['pickup_latitude'], trip['pickup_longitude']], radius=6)\n",
    "        return marker_location.add_to(manhattan_map)\n",
    "        \n",
    "to_marker(first_trip)"
   ]
  },
  {
   "cell_type": "code",
   "execution_count": 25,
   "metadata": {},
   "outputs": [
    {
     "ename": "TypeError",
     "evalue": "the JSON object must be str, bytes or bytearray, not 'dict'",
     "output_type": "error",
     "traceback": [
      "\u001b[0;31m\u001b[0m",
      "\u001b[0;31mTypeError\u001b[0mTraceback (most recent call last)",
      "\u001b[0;32m<ipython-input-25-aea535683066>\u001b[0m in \u001b[0;36m<module>\u001b[0;34m\u001b[0m\n\u001b[1;32m      3\u001b[0m \u001b[0;34m\u001b[0m\u001b[0m\n\u001b[1;32m      4\u001b[0m \u001b[0mtimes_square_marker\u001b[0m \u001b[0;32mand\u001b[0m \u001b[0mtimes_square_marker\u001b[0m\u001b[0;34m.\u001b[0m\u001b[0mlocation\u001b[0m \u001b[0;31m# [40.7589, -73.9851]\u001b[0m\u001b[0;34m\u001b[0m\u001b[0;34m\u001b[0m\u001b[0m\n\u001b[0;32m----> 5\u001b[0;31m \u001b[0mtimes_square_marker\u001b[0m \u001b[0;32mand\u001b[0m \u001b[0mjson\u001b[0m\u001b[0;34m.\u001b[0m\u001b[0mloads\u001b[0m\u001b[0;34m(\u001b[0m\u001b[0mtimes_square_marker\u001b[0m\u001b[0;34m.\u001b[0m\u001b[0moptions\u001b[0m\u001b[0;34m)\u001b[0m\u001b[0;34m[\u001b[0m\u001b[0;34m'radius'\u001b[0m\u001b[0;34m]\u001b[0m \u001b[0;31m# 6\u001b[0m\u001b[0;34m\u001b[0m\u001b[0;34m\u001b[0m\u001b[0m\n\u001b[0m",
      "\u001b[0;32m/opt/conda/envs/learn-env/lib/python3.6/json/__init__.py\u001b[0m in \u001b[0;36mloads\u001b[0;34m(s, encoding, cls, object_hook, parse_float, parse_int, parse_constant, object_pairs_hook, **kw)\u001b[0m\n\u001b[1;32m    346\u001b[0m         \u001b[0;32mif\u001b[0m \u001b[0;32mnot\u001b[0m \u001b[0misinstance\u001b[0m\u001b[0;34m(\u001b[0m\u001b[0ms\u001b[0m\u001b[0;34m,\u001b[0m \u001b[0;34m(\u001b[0m\u001b[0mbytes\u001b[0m\u001b[0;34m,\u001b[0m \u001b[0mbytearray\u001b[0m\u001b[0;34m)\u001b[0m\u001b[0;34m)\u001b[0m\u001b[0;34m:\u001b[0m\u001b[0;34m\u001b[0m\u001b[0;34m\u001b[0m\u001b[0m\n\u001b[1;32m    347\u001b[0m             raise TypeError('the JSON object must be str, bytes or bytearray, '\n\u001b[0;32m--> 348\u001b[0;31m                             'not {!r}'.format(s.__class__.__name__))\n\u001b[0m\u001b[1;32m    349\u001b[0m         \u001b[0ms\u001b[0m \u001b[0;34m=\u001b[0m \u001b[0ms\u001b[0m\u001b[0;34m.\u001b[0m\u001b[0mdecode\u001b[0m\u001b[0;34m(\u001b[0m\u001b[0mdetect_encoding\u001b[0m\u001b[0;34m(\u001b[0m\u001b[0ms\u001b[0m\u001b[0;34m)\u001b[0m\u001b[0;34m,\u001b[0m \u001b[0;34m'surrogatepass'\u001b[0m\u001b[0;34m)\u001b[0m\u001b[0;34m\u001b[0m\u001b[0;34m\u001b[0m\u001b[0m\n\u001b[1;32m    350\u001b[0m \u001b[0;34m\u001b[0m\u001b[0m\n",
      "\u001b[0;31mTypeError\u001b[0m: the JSON object must be str, bytes or bytearray, not 'dict'"
     ]
    }
   ],
   "source": [
    "import json\n",
    "times_square_marker = to_marker([40.7589, -73.9851])\n",
    "\n",
    "times_square_marker and times_square_marker.location # [40.7589, -73.9851]\n",
    "times_square_marker and json.loads(times_square_marker.options)['radius'] # 6"
   ]
  },
  {
   "cell_type": "code",
   "execution_count": 21,
   "metadata": {},
   "outputs": [],
   "source": [
    "import json\n",
    "times_square_marker = to_marker([40.7589, -73.9851])"
   ]
  },
  {
   "cell_type": "code",
   "execution_count": 26,
   "metadata": {},
   "outputs": [
    {
     "data": {
      "text/plain": [
       "[40.64499, -73.78115]"
      ]
     },
     "execution_count": 26,
     "metadata": {},
     "output_type": "execute_result"
    }
   ],
   "source": [
    "times_square_marker and times_square_marker.location"
   ]
  },
  {
   "cell_type": "markdown",
   "metadata": {},
   "source": [
    "Ok, now that we know how to produce a single marker, let's write a function to produce lots.  We can write a function called `markers_from_trips` that takes in a list of trips, and returns a marker object for each trip.  "
   ]
  },
  {
   "cell_type": "code",
   "execution_count": 27,
   "metadata": {},
   "outputs": [],
   "source": [
    "def markers_from_trips(trips):\n",
    "    locations = list(map(lambda trip: location(trip), trips))\n",
    "    return list(map(lambda location: to_marker(location), locations))\n"
   ]
  },
  {
   "cell_type": "code",
   "execution_count": 28,
   "metadata": {},
   "outputs": [],
   "source": [
    "trip_markers = markers_from_trips(cleaned_trips)"
   ]
  },
  {
   "cell_type": "code",
   "execution_count": 61,
   "metadata": {},
   "outputs": [
    {
     "data": {
      "text/plain": [
       "[{'trip_distance': 18.38,\n",
       "  'pickup_latitude': 40.64499,\n",
       "  'pickup_longitude': -73.78115},\n",
       " {'trip_distance': 1.3,\n",
       "  'pickup_latitude': 40.766931,\n",
       "  'pickup_longitude': -73.982098},\n",
       " {'trip_distance': 4.5,\n",
       "  'pickup_latitude': 40.77773,\n",
       "  'pickup_longitude': -73.951902},\n",
       " {'trip_distance': 2.4,\n",
       "  'pickup_latitude': 40.795678,\n",
       "  'pickup_longitude': -73.971049}]"
      ]
     },
     "execution_count": 61,
     "metadata": {},
     "output_type": "execute_result"
    }
   ],
   "source": [
    "cleaned_trips[0:4]"
   ]
  },
  {
   "cell_type": "code",
   "execution_count": 30,
   "metadata": {},
   "outputs": [],
   "source": [
    "trip_markers and len(trip_markers) # 1000\n",
    "\n",
    "marker_list = list(map(lambda marker: [marker['pickup_latitude'], marker['pickup_longitude']], trips))\n",
    "# [[40.64499, -73.78115],\n",
    "#  [40.766931, -73.982098],\n",
    "#  [40.77773, -73.951902],\n",
    "#  [40.795678, -73.971049]]"
   ]
  },
  {
   "cell_type": "code",
   "execution_count": 31,
   "metadata": {},
   "outputs": [
    {
     "data": {
      "text/plain": [
       "[['40.64499', '-73.781149999999997'],\n",
       " ['40.766931', '-73.982097999999993'],\n",
       " ['40.777729999999998', '-73.951902000000004'],\n",
       " ['40.795678000000002', '-73.971048999999994']]"
      ]
     },
     "execution_count": 31,
     "metadata": {},
     "output_type": "execute_result"
    }
   ],
   "source": [
    "marker_list[0:4]"
   ]
  },
  {
   "cell_type": "code",
   "execution_count": 32,
   "metadata": {},
   "outputs": [
    {
     "data": {
      "text/plain": [
       "1000"
      ]
     },
     "execution_count": 32,
     "metadata": {},
     "output_type": "execute_result"
    }
   ],
   "source": [
    "len(trip_markers)"
   ]
  },
  {
   "cell_type": "markdown",
   "metadata": {},
   "source": [
    "Ok, now that we have a function that creates locations, and a function that creates markers, it is time to write a function to plot a map. \n",
    "\n",
    "Write a function called `map_from` that, provided the first argument of a list location and second argument an integer representing the `zoom_start`, returns a `folium` map the corresponding location and `zoom_start` attributes.\n",
    "\n",
    "> Hint: The following is how to write a map with folium:\n",
    "> ```python \n",
    "    folium.Map(location=location, zoom_start=zoom_amount)\n",
    "> ```"
   ]
  },
  {
   "cell_type": "code",
   "execution_count": 55,
   "metadata": {},
   "outputs": [],
   "source": [
    "def map_from(location, zoom_amount):\n",
    "    return folium.Map(location=location, zoom_start=zoom_amount)\n",
    "    \n",
    "    \n",
    "    "
   ]
  },
  {
   "cell_type": "code",
   "execution_count": 48,
   "metadata": {},
   "outputs": [
    {
     "ename": "AttributeError",
     "evalue": "'Map' object has no attribute 'zoom_start'",
     "output_type": "error",
     "traceback": [
      "\u001b[0;31m\u001b[0m",
      "\u001b[0;31mAttributeError\u001b[0mTraceback (most recent call last)",
      "\u001b[0;32m<ipython-input-48-9505087fb7df>\u001b[0m in \u001b[0;36m<module>\u001b[0;34m\u001b[0m\n\u001b[1;32m      1\u001b[0m \u001b[0mtimes_square_map\u001b[0m \u001b[0;34m=\u001b[0m \u001b[0mmap_from\u001b[0m\u001b[0;34m(\u001b[0m\u001b[0;34m[\u001b[0m\u001b[0;36m40.7589\u001b[0m\u001b[0;34m,\u001b[0m \u001b[0;34m-\u001b[0m\u001b[0;36m73.9851\u001b[0m\u001b[0;34m]\u001b[0m\u001b[0;34m,\u001b[0m \u001b[0;36m15\u001b[0m\u001b[0;34m)\u001b[0m\u001b[0;34m\u001b[0m\u001b[0;34m\u001b[0m\u001b[0m\n\u001b[1;32m      2\u001b[0m \u001b[0mtimes_square_map\u001b[0m \u001b[0;32mand\u001b[0m \u001b[0mtimes_square_map\u001b[0m\u001b[0;34m.\u001b[0m\u001b[0mlocation\u001b[0m \u001b[0;31m# [40.7589, -73.9851]\u001b[0m\u001b[0;34m\u001b[0m\u001b[0;34m\u001b[0m\u001b[0m\n\u001b[0;32m----> 3\u001b[0;31m \u001b[0mtimes_square_map\u001b[0m \u001b[0;32mand\u001b[0m \u001b[0mtimes_square_map\u001b[0m\u001b[0;34m.\u001b[0m\u001b[0mzoom_start\u001b[0m \u001b[0;31m# 15\u001b[0m\u001b[0;34m\u001b[0m\u001b[0;34m\u001b[0m\u001b[0m\n\u001b[0m",
      "\u001b[0;31mAttributeError\u001b[0m: 'Map' object has no attribute 'zoom_start'"
     ]
    }
   ],
   "source": [
    "times_square_map = map_from([40.7589, -73.9851], 15)\n",
    "times_square_map and times_square_map.location # [40.7589, -73.9851]\n",
    "times_square_map and times_square_map.zoom_start # 15"
   ]
  },
  {
   "cell_type": "code",
   "execution_count": 57,
   "metadata": {},
   "outputs": [
    {
     "data": {
      "text/plain": [
       "[40.7589, -73.9851]"
      ]
     },
     "execution_count": 57,
     "metadata": {},
     "output_type": "execute_result"
    }
   ],
   "source": [
    "times_square_map and times_square_map.location"
   ]
  },
  {
   "cell_type": "code",
   "execution_count": 49,
   "metadata": {},
   "outputs": [
    {
     "ename": "AttributeError",
     "evalue": "'Map' object has no attribute 'zoom_amount'",
     "output_type": "error",
     "traceback": [
      "\u001b[0;31m\u001b[0m",
      "\u001b[0;31mAttributeError\u001b[0mTraceback (most recent call last)",
      "\u001b[0;32m<ipython-input-49-ea29cd17fbcf>\u001b[0m in \u001b[0;36m<module>\u001b[0;34m\u001b[0m\n\u001b[0;32m----> 1\u001b[0;31m \u001b[0mtimes_square_map\u001b[0m \u001b[0;32mand\u001b[0m \u001b[0mtimes_square_map\u001b[0m\u001b[0;34m.\u001b[0m\u001b[0mzoom_amount\u001b[0m\u001b[0;34m\u001b[0m\u001b[0;34m\u001b[0m\u001b[0m\n\u001b[0m",
      "\u001b[0;31mAttributeError\u001b[0m: 'Map' object has no attribute 'zoom_amount'"
     ]
    }
   ],
   "source": [
    "times_square_map and times_square_map.zoom_amount"
   ]
  },
  {
   "cell_type": "code",
   "execution_count": 56,
   "metadata": {},
   "outputs": [],
   "source": [
    "times_square_map = map_from([40.7589, -73.9851], 15)"
   ]
  },
  {
   "cell_type": "code",
   "execution_count": 50,
   "metadata": {},
   "outputs": [],
   "source": [
    "times_square_map = map_from([40.7589, -73.9851], 15)"
   ]
  },
  {
   "cell_type": "code",
   "execution_count": 58,
   "metadata": {
    "scrolled": true
   },
   "outputs": [
    {
     "data": {
      "text/plain": [
       "<folium.vector_layers.CircleMarker at 0x7f3f1e3f1278>"
      ]
     },
     "execution_count": 58,
     "metadata": {},
     "output_type": "execute_result"
    }
   ],
   "source": [
    "times_square_marker and times_square_marker.add_to(times_square_map)"
   ]
  },
  {
   "cell_type": "markdown",
   "metadata": {},
   "source": [
    "Now that we have a marker and a map, now let's write a function that adds a lot of markers to a map.  This function should add each marker in the list to the map object then return the updated map object."
   ]
  },
  {
   "cell_type": "code",
   "execution_count": 59,
   "metadata": {},
   "outputs": [
    {
     "data": {
      "text/html": [
       "<div style=\"width:100%;\"><div style=\"position:relative;width:100%;height:0;padding-bottom:60%;\"><iframe src=\"data:text/html;charset=utf-8;base64,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\" style=\"position:absolute;width:100%;height:100%;left:0;top:0;border:none !important;\" allowfullscreen webkitallowfullscreen mozallowfullscreen></iframe></div></div>"
      ],
      "text/plain": [
       "<folium.folium.Map at 0x7f3f1e23d0b8>"
      ]
     },
     "execution_count": 59,
     "metadata": {},
     "output_type": "execute_result"
    }
   ],
   "source": [
    "times_square_map"
   ]
  },
  {
   "cell_type": "code",
   "execution_count": 61,
   "metadata": {},
   "outputs": [
    {
     "data": {
      "text/html": [
       "<div style=\"width:100%;\"><div style=\"position:relative;width:100%;height:0;padding-bottom:60%;\"><iframe src=\"data:text/html;charset=utf-8;base64,PCFET0NUWVBFIGh0bWw+CjxoZWFkPiAgICAKICAgIDxtZXRhIGh0dHAtZXF1aXY9ImNvbnRlbnQtdHlwZSIgY29udGVudD0idGV4dC9odG1sOyBjaGFyc2V0PVVURi04IiAvPgogICAgCiAgICAgICAgPHNjcmlwdD4KICAgICAgICAgICAgTF9OT19UT1VDSCA9IGZhbHNlOwogICAgICAgICAgICBMX0RJU0FCTEVfM0QgPSBmYWxzZTsKICAgICAgICA8L3NjcmlwdD4KICAgIAogICAgPHNjcmlwdCBzcmM9Imh0dHBzOi8vY2RuLmpzZGVsaXZyLm5ldC9ucG0vbGVhZmxldEAxLjUuMS9kaXN0L2xlYWZsZXQuanMiPjwvc2NyaXB0PgogICAgPHNjcmlwdCBzcmM9Imh0dHBzOi8vY29kZS5qcXVlcnkuY29tL2pxdWVyeS0xLjEyLjQubWluLmpzIj48L3NjcmlwdD4KICAgIDxzY3JpcHQgc3JjPSJodHRwczovL21heGNkbi5ib290c3RyYXBjZG4uY29tL2Jvb3RzdHJhcC8zLjIuMC9qcy9ib290c3RyYXAubWluLmpzIj48L3NjcmlwdD4KICAgIDxzY3JpcHQgc3JjPSJodHRwczovL2NkbmpzLmNsb3VkZmxhcmUuY29tL2FqYXgvbGlicy9MZWFmbGV0LmF3ZXNvbWUtbWFya2Vycy8yLjAuMi9sZWFmbGV0LmF3ZXNvbWUtbWFya2Vycy5qcyI+PC9zY3JpcHQ+CiAgICA8bGluayByZWw9InN0eWxlc2hlZXQiIGhyZWY9Imh0dHBzOi8vY2RuLmpzZGVsaXZyLm5ldC9ucG0vbGVhZmxldEAxLjUuMS9kaXN0L2xlYWZsZXQuY3NzIi8+CiAgICA8bGluayByZWw9InN0eWxlc2hlZXQiIGhyZWY9Imh0dHBzOi8vbWF4Y2RuLmJvb3RzdHJhcGNkbi5jb20vYm9vdHN0cmFwLzMuMi4wL2Nzcy9ib290c3RyYXAubWluLmNzcyIvPgogICAgPGxpbmsgcmVsPSJzdHlsZXNoZWV0IiBocmVmPSJodHRwczovL21heGNkbi5ib290c3RyYXBjZG4uY29tL2Jvb3RzdHJhcC8zLjIuMC9jc3MvYm9vdHN0cmFwLXRoZW1lLm1pbi5jc3MiLz4KICAgIDxsaW5rIHJlbD0ic3R5bGVzaGVldCIgaHJlZj0iaHR0cHM6Ly9tYXhjZG4uYm9vdHN0cmFwY2RuLmNvbS9mb250LWF3ZXNvbWUvNC42LjMvY3NzL2ZvbnQtYXdlc29tZS5taW4uY3NzIi8+CiAgICA8bGluayByZWw9InN0eWxlc2hlZXQiIGhyZWY9Imh0dHBzOi8vY2RuanMuY2xvdWRmbGFyZS5jb20vYWpheC9saWJzL0xlYWZsZXQuYXdlc29tZS1tYXJrZXJzLzIuMC4yL2xlYWZsZXQuYXdlc29tZS1tYXJrZXJzLmNzcyIvPgogICAgPGxpbmsgcmVsPSJzdHlsZXNoZWV0IiBocmVmPSJodHRwczovL3Jhd2Nkbi5naXRoYWNrLmNvbS9weXRob24tdmlzdWFsaXphdGlvbi9mb2xpdW0vbWFzdGVyL2ZvbGl1bS90ZW1wbGF0ZXMvbGVhZmxldC5hd2Vzb21lLnJvdGF0ZS5jc3MiLz4KICAgIDxzdHlsZT5odG1sLCBib2R5IHt3aWR0aDogMTAwJTtoZWlnaHQ6IDEwMCU7bWFyZ2luOiAwO3BhZGRpbmc6IDA7fTwvc3R5bGU+CiAgICA8c3R5bGU+I21hcCB7cG9zaXRpb246YWJzb2x1dGU7dG9wOjA7Ym90dG9tOjA7cmlnaHQ6MDtsZWZ0OjA7fTwvc3R5bGU+CiAgICAKICAgICAgICAgICAgPG1ldGEgbmFtZT0idmlld3BvcnQiIGNvbnRlbnQ9IndpZHRoPWRldmljZS13aWR0aCwKICAgICAgICAgICAgICAgIGluaXRpYWwtc2NhbGU9MS4wLCBtYXhpbXVtLXNjYWxlPTEuMCwgdXNlci1zY2FsYWJsZT1ubyIgLz4KICAgICAgICAgICAgPHN0eWxlPgogICAgICAgICAgICAgICAgI21hcF85ODEyNTFmZGVjNzQ0ZDg5ODhkNDgzNmUzY2NjMWQwNCB7CiAgICAgICAgICAgICAgICAgICAgcG9zaXRpb246IHJlbGF0aXZlOwogICAgICAgICAgICAgICAgICAgIHdpZHRoOiAxMDAuMCU7CiAgICAgICAgICAgICAgICAgICAgaGVpZ2h0OiAxMDAuMCU7CiAgICAgICAgICAgICAgICAgICAgbGVmdDogMC4wJTsKICAgICAgICAgICAgICAgICAgICB0b3A6IDAuMCU7CiAgICAgICAgICAgICAgICB9CiAgICAgICAgICAgIDwvc3R5bGU+CiAgICAgICAgCjwvaGVhZD4KPGJvZHk+ICAgIAogICAgCiAgICAgICAgICAgIDxkaXYgY2xhc3M9ImZvbGl1bS1tYXAiIGlkPSJtYXBfOTgxMjUxZmRlYzc0NGQ4OTg4ZDQ4MzZlM2NjYzFkMDQiID48L2Rpdj4KICAgICAgICAKPC9ib2R5Pgo8c2NyaXB0PiAgICAKICAgIAogICAgICAgICAgICB2YXIgbWFwXzk4MTI1MWZkZWM3NDRkODk4OGQ0ODM2ZTNjY2MxZDA0ID0gTC5tYXAoCiAgICAgICAgICAgICAgICAibWFwXzk4MTI1MWZkZWM3NDRkODk4OGQ0ODM2ZTNjY2MxZDA0IiwKICAgICAgICAgICAgICAgIHsKICAgICAgICAgICAgICAgICAgICBjZW50ZXI6IFs0MC43NTg5LCAtNzMuOTg1MV0sCiAgICAgICAgICAgICAgICAgICAgY3JzOiBMLkNSUy5FUFNHMzg1NywKICAgICAgICAgICAgICAgICAgICB6b29tOiAxMywKICAgICAgICAgICAgICAgICAgICB6b29tQ29udHJvbDogdHJ1ZSwKICAgICAgICAgICAgICAgICAgICBwcmVmZXJDYW52YXM6IGZhbHNlLAogICAgICAgICAgICAgICAgfQogICAgICAgICAgICApOwoKICAgICAgICAgICAgCgogICAgICAgIAogICAgCiAgICAgICAgICAgIHZhciB0aWxlX2xheWVyXzM0NjgyYmI3ODRlODQ0YzhiMzY0ODVmZjg1ZjlhODU1ID0gTC50aWxlTGF5ZXIoCiAgICAgICAgICAgICAgICAiaHR0cHM6Ly97c30udGlsZS5vcGVuc3RyZWV0bWFwLm9yZy97en0ve3h9L3t5fS5wbmciLAogICAgICAgICAgICAgICAgeyJhdHRyaWJ1dGlvbiI6ICJEYXRhIGJ5IFx1MDAyNmNvcHk7IFx1MDAzY2EgaHJlZj1cImh0dHA6Ly9vcGVuc3RyZWV0bWFwLm9yZ1wiXHUwMDNlT3BlblN0cmVldE1hcFx1MDAzYy9hXHUwMDNlLCB1bmRlciBcdTAwM2NhIGhyZWY9XCJodHRwOi8vd3d3Lm9wZW5zdHJlZXRtYXAub3JnL2NvcHlyaWdodFwiXHUwMDNlT0RiTFx1MDAzYy9hXHUwMDNlLiIsICJkZXRlY3RSZXRpbmEiOiBmYWxzZSwgIm1heE5hdGl2ZVpvb20iOiAxOCwgIm1heFpvb20iOiAxOCwgIm1pblpvb20iOiAwLCAibm9XcmFwIjogZmFsc2UsICJvcGFjaXR5IjogMSwgInN1YmRvbWFpbnMiOiAiYWJjIiwgInRtcyI6IGZhbHNlfQogICAgICAgICAgICApLmFkZFRvKG1hcF85ODEyNTFmZGVjNzQ0ZDg5ODhkNDgzNmUzY2NjMWQwNCk7CiAgICAgICAgCjwvc2NyaXB0Pg==\" style=\"position:absolute;width:100%;height:100%;left:0;top:0;border:none !important;\" allowfullscreen webkitallowfullscreen mozallowfullscreen></iframe></div></div>"
      ],
      "text/plain": [
       "<folium.folium.Map at 0x7f3f1d1d8320>"
      ]
     },
     "execution_count": 61,
     "metadata": {},
     "output_type": "execute_result"
    }
   ],
   "source": [
    "manhattan_map = map_from([40.7589, -73.9851], 13)\n",
    "manhattan_map"
   ]
  },
  {
   "cell_type": "code",
   "execution_count": 64,
   "metadata": {},
   "outputs": [],
   "source": [
    "def add_markers(markers, map_obj):\n",
    "    return markers, map_obj"
   ]
  },
  {
   "cell_type": "code",
   "execution_count": 65,
   "metadata": {
    "scrolled": false
   },
   "outputs": [],
   "source": [
    "map_with_markers = add_markers(trip_markers, manhattan_map)"
   ]
  },
  {
   "cell_type": "code",
   "execution_count": 66,
   "metadata": {},
   "outputs": [
    {
     "data": {
      "text/plain": [
       "([<folium.vector_layers.CircleMarker at 0x7f3f1e4f9fd0>,\n",
       "  <folium.vector_layers.CircleMarker at 0x7f3f4bfcf908>,\n",
       "  <folium.vector_layers.CircleMarker at 0x7f3f1e5070f0>,\n",
       "  <folium.vector_layers.CircleMarker at 0x7f3f4bfcf320>,\n",
       "  <folium.vector_layers.CircleMarker at 0x7f3f1e4f9f60>,\n",
       "  <folium.vector_layers.CircleMarker at 0x7f3f4bfcf860>,\n",
       "  <folium.vector_layers.CircleMarker at 0x7f3f1e4f9080>,\n",
       "  <folium.vector_layers.CircleMarker at 0x7f3f1e5071d0>,\n",
       "  <folium.vector_layers.CircleMarker at 0x7f3f1e4f9e48>,\n",
       "  <folium.vector_layers.CircleMarker at 0x7f3f1e507080>,\n",
       "  <folium.vector_layers.CircleMarker at 0x7f3f1e4f9dd8>,\n",
       "  <folium.vector_layers.CircleMarker at 0x7f3f1e507048>,\n",
       "  <folium.vector_layers.CircleMarker at 0x7f3f1e4f9eb8>,\n",
       "  <folium.vector_layers.CircleMarker at 0x7f3f1e4f9ef0>,\n",
       "  <folium.vector_layers.CircleMarker at 0x7f3f1e3f19b0>,\n",
       "  <folium.vector_layers.CircleMarker at 0x7f3f1e3f1978>,\n",
       "  <folium.vector_layers.CircleMarker at 0x7f3f1e3f1a58>,\n",
       "  <folium.vector_layers.CircleMarker at 0x7f3f1e3f1898>,\n",
       "  <folium.vector_layers.CircleMarker at 0x7f3f1e3f1a90>,\n",
       "  <folium.vector_layers.CircleMarker at 0x7f3f1e3f1b70>,\n",
       "  <folium.vector_layers.CircleMarker at 0x7f3f1e3f1a20>,\n",
       "  <folium.vector_layers.CircleMarker at 0x7f3f1e3f1198>,\n",
       "  <folium.vector_layers.CircleMarker at 0x7f3f1e3f19e8>,\n",
       "  <folium.vector_layers.CircleMarker at 0x7f3f1e3f1ac8>,\n",
       "  <folium.vector_layers.CircleMarker at 0x7f3f1e3f1b38>,\n",
       "  <folium.vector_layers.CircleMarker at 0x7f3f1e3f1ba8>,\n",
       "  <folium.vector_layers.CircleMarker at 0x7f3f1e3f1be0>,\n",
       "  <folium.vector_layers.CircleMarker at 0x7f3f1e3f1c18>,\n",
       "  <folium.vector_layers.CircleMarker at 0x7f3f1e3f1c50>,\n",
       "  <folium.vector_layers.CircleMarker at 0x7f3f1e3f1c88>,\n",
       "  <folium.vector_layers.CircleMarker at 0x7f3f1e3f1cc0>,\n",
       "  <folium.vector_layers.CircleMarker at 0x7f3f1e3f1cf8>,\n",
       "  <folium.vector_layers.CircleMarker at 0x7f3f1e3f1d30>,\n",
       "  <folium.vector_layers.CircleMarker at 0x7f3f1e3f1d68>,\n",
       "  <folium.vector_layers.CircleMarker at 0x7f3f1e3f1da0>,\n",
       "  <folium.vector_layers.CircleMarker at 0x7f3f1e3f1dd8>,\n",
       "  <folium.vector_layers.CircleMarker at 0x7f3f1e3f1e10>,\n",
       "  <folium.vector_layers.CircleMarker at 0x7f3f1e3f1e48>,\n",
       "  <folium.vector_layers.CircleMarker at 0x7f3f1e3f1e80>,\n",
       "  <folium.vector_layers.CircleMarker at 0x7f3f1e3f1eb8>,\n",
       "  <folium.vector_layers.CircleMarker at 0x7f3f1e3f1f28>,\n",
       "  <folium.vector_layers.CircleMarker at 0x7f3f1e3f1fd0>,\n",
       "  <folium.vector_layers.CircleMarker at 0x7f3f1e3f1f60>,\n",
       "  <folium.vector_layers.CircleMarker at 0x7f3f1e3f1ef0>,\n",
       "  <folium.vector_layers.CircleMarker at 0x7f3f1e3f1240>,\n",
       "  <folium.vector_layers.CircleMarker at 0x7f3f1e3f1f98>,\n",
       "  <folium.vector_layers.CircleMarker at 0x7f3f1e329048>,\n",
       "  <folium.vector_layers.CircleMarker at 0x7f3f1e3290f0>,\n",
       "  <folium.vector_layers.CircleMarker at 0x7f3f1e329160>,\n",
       "  <folium.vector_layers.CircleMarker at 0x7f3f1e3291d0>,\n",
       "  <folium.vector_layers.CircleMarker at 0x7f3f1e329208>,\n",
       "  <folium.vector_layers.CircleMarker at 0x7f3f1e329278>,\n",
       "  <folium.vector_layers.CircleMarker at 0x7f3f1e3292e8>,\n",
       "  <folium.vector_layers.CircleMarker at 0x7f3f1e3290b8>,\n",
       "  <folium.vector_layers.CircleMarker at 0x7f3f1e329128>,\n",
       "  <folium.vector_layers.CircleMarker at 0x7f3f1e329198>,\n",
       "  <folium.vector_layers.CircleMarker at 0x7f3f1e329240>,\n",
       "  <folium.vector_layers.CircleMarker at 0x7f3f1e3292b0>,\n",
       "  <folium.vector_layers.CircleMarker at 0x7f3f1e329320>,\n",
       "  <folium.vector_layers.CircleMarker at 0x7f3f1e329358>,\n",
       "  <folium.vector_layers.CircleMarker at 0x7f3f1e329390>,\n",
       "  <folium.vector_layers.CircleMarker at 0x7f3f1e3293c8>,\n",
       "  <folium.vector_layers.CircleMarker at 0x7f3f1e329400>,\n",
       "  <folium.vector_layers.CircleMarker at 0x7f3f1e329438>,\n",
       "  <folium.vector_layers.CircleMarker at 0x7f3f1e329470>,\n",
       "  <folium.vector_layers.CircleMarker at 0x7f3f1e3294a8>,\n",
       "  <folium.vector_layers.CircleMarker at 0x7f3f1e3294e0>,\n",
       "  <folium.vector_layers.CircleMarker at 0x7f3f1e329518>,\n",
       "  <folium.vector_layers.CircleMarker at 0x7f3f1e329550>,\n",
       "  <folium.vector_layers.CircleMarker at 0x7f3f1e329588>,\n",
       "  <folium.vector_layers.CircleMarker at 0x7f3f1e3295c0>,\n",
       "  <folium.vector_layers.CircleMarker at 0x7f3f1e3295f8>,\n",
       "  <folium.vector_layers.CircleMarker at 0x7f3f1e329630>,\n",
       "  <folium.vector_layers.CircleMarker at 0x7f3f1e329668>,\n",
       "  <folium.vector_layers.CircleMarker at 0x7f3f1e3296a0>,\n",
       "  <folium.vector_layers.CircleMarker at 0x7f3f1e3296d8>,\n",
       "  <folium.vector_layers.CircleMarker at 0x7f3f1e329710>,\n",
       "  <folium.vector_layers.CircleMarker at 0x7f3f1e329748>,\n",
       "  <folium.vector_layers.CircleMarker at 0x7f3f1e329780>,\n",
       "  <folium.vector_layers.CircleMarker at 0x7f3f1e3297b8>,\n",
       "  <folium.vector_layers.CircleMarker at 0x7f3f1e3297f0>,\n",
       "  <folium.vector_layers.CircleMarker at 0x7f3f1e329828>,\n",
       "  <folium.vector_layers.CircleMarker at 0x7f3f1e329860>,\n",
       "  <folium.vector_layers.CircleMarker at 0x7f3f1e329898>,\n",
       "  <folium.vector_layers.CircleMarker at 0x7f3f1e3298d0>,\n",
       "  <folium.vector_layers.CircleMarker at 0x7f3f1e329908>,\n",
       "  <folium.vector_layers.CircleMarker at 0x7f3f1e329940>,\n",
       "  <folium.vector_layers.CircleMarker at 0x7f3f1e329978>,\n",
       "  <folium.vector_layers.CircleMarker at 0x7f3f1e3299b0>,\n",
       "  <folium.vector_layers.CircleMarker at 0x7f3f1e3299e8>,\n",
       "  <folium.vector_layers.CircleMarker at 0x7f3f1e329a20>,\n",
       "  <folium.vector_layers.CircleMarker at 0x7f3f1e329a58>,\n",
       "  <folium.vector_layers.CircleMarker at 0x7f3f1e329a90>,\n",
       "  <folium.vector_layers.CircleMarker at 0x7f3f1e329ac8>,\n",
       "  <folium.vector_layers.CircleMarker at 0x7f3f1e329b00>,\n",
       "  <folium.vector_layers.CircleMarker at 0x7f3f1e329b38>,\n",
       "  <folium.vector_layers.CircleMarker at 0x7f3f1e329b70>,\n",
       "  <folium.vector_layers.CircleMarker at 0x7f3f1e329ba8>,\n",
       "  <folium.vector_layers.CircleMarker at 0x7f3f1e329be0>,\n",
       "  <folium.vector_layers.CircleMarker at 0x7f3f1e329c18>,\n",
       "  <folium.vector_layers.CircleMarker at 0x7f3f1e329c50>,\n",
       "  <folium.vector_layers.CircleMarker at 0x7f3f1e329c88>,\n",
       "  <folium.vector_layers.CircleMarker at 0x7f3f1e329cc0>,\n",
       "  <folium.vector_layers.CircleMarker at 0x7f3f1e329cf8>,\n",
       "  <folium.vector_layers.CircleMarker at 0x7f3f1e329d30>,\n",
       "  <folium.vector_layers.CircleMarker at 0x7f3f1e329d68>,\n",
       "  <folium.vector_layers.CircleMarker at 0x7f3f1e329da0>,\n",
       "  <folium.vector_layers.CircleMarker at 0x7f3f1e329dd8>,\n",
       "  <folium.vector_layers.CircleMarker at 0x7f3f1e329e10>,\n",
       "  <folium.vector_layers.CircleMarker at 0x7f3f1e329e48>,\n",
       "  <folium.vector_layers.CircleMarker at 0x7f3f1e329e80>,\n",
       "  <folium.vector_layers.CircleMarker at 0x7f3f1e329eb8>,\n",
       "  <folium.vector_layers.CircleMarker at 0x7f3f1e329f28>,\n",
       "  <folium.vector_layers.CircleMarker at 0x7f3f1e329fd0>,\n",
       "  <folium.vector_layers.CircleMarker at 0x7f3f1e329f60>,\n",
       "  <folium.vector_layers.CircleMarker at 0x7f3f1e329ef0>,\n",
       "  <folium.vector_layers.CircleMarker at 0x7f3f1e329080>,\n",
       "  <folium.vector_layers.CircleMarker at 0x7f3f1e329f98>,\n",
       "  <folium.vector_layers.CircleMarker at 0x7f3f1e33b048>,\n",
       "  <folium.vector_layers.CircleMarker at 0x7f3f1e33b0f0>,\n",
       "  <folium.vector_layers.CircleMarker at 0x7f3f1e33b160>,\n",
       "  <folium.vector_layers.CircleMarker at 0x7f3f1e33b1d0>,\n",
       "  <folium.vector_layers.CircleMarker at 0x7f3f1e33b208>,\n",
       "  <folium.vector_layers.CircleMarker at 0x7f3f1e33b278>,\n",
       "  <folium.vector_layers.CircleMarker at 0x7f3f1e33b2e8>,\n",
       "  <folium.vector_layers.CircleMarker at 0x7f3f1e33b0b8>,\n",
       "  <folium.vector_layers.CircleMarker at 0x7f3f1e33b128>,\n",
       "  <folium.vector_layers.CircleMarker at 0x7f3f1e33b198>,\n",
       "  <folium.vector_layers.CircleMarker at 0x7f3f1e33b240>,\n",
       "  <folium.vector_layers.CircleMarker at 0x7f3f1e33b2b0>,\n",
       "  <folium.vector_layers.CircleMarker at 0x7f3f1e33b320>,\n",
       "  <folium.vector_layers.CircleMarker at 0x7f3f1e33b358>,\n",
       "  <folium.vector_layers.CircleMarker at 0x7f3f1e33b390>,\n",
       "  <folium.vector_layers.CircleMarker at 0x7f3f1e33b3c8>,\n",
       "  <folium.vector_layers.CircleMarker at 0x7f3f1e33b400>,\n",
       "  <folium.vector_layers.CircleMarker at 0x7f3f1e33b438>,\n",
       "  <folium.vector_layers.CircleMarker at 0x7f3f1e33b470>,\n",
       "  <folium.vector_layers.CircleMarker at 0x7f3f1e33b4a8>,\n",
       "  <folium.vector_layers.CircleMarker at 0x7f3f1e33b4e0>,\n",
       "  <folium.vector_layers.CircleMarker at 0x7f3f1e33b518>,\n",
       "  <folium.vector_layers.CircleMarker at 0x7f3f1e33b550>,\n",
       "  <folium.vector_layers.CircleMarker at 0x7f3f1e33b588>,\n",
       "  <folium.vector_layers.CircleMarker at 0x7f3f1e33b5c0>,\n",
       "  <folium.vector_layers.CircleMarker at 0x7f3f1e33b5f8>,\n",
       "  <folium.vector_layers.CircleMarker at 0x7f3f1e33b630>,\n",
       "  <folium.vector_layers.CircleMarker at 0x7f3f1e33b668>,\n",
       "  <folium.vector_layers.CircleMarker at 0x7f3f1e33b6a0>,\n",
       "  <folium.vector_layers.CircleMarker at 0x7f3f1e33b6d8>,\n",
       "  <folium.vector_layers.CircleMarker at 0x7f3f1e33b710>,\n",
       "  <folium.vector_layers.CircleMarker at 0x7f3f1e33b748>,\n",
       "  <folium.vector_layers.CircleMarker at 0x7f3f1e33b780>,\n",
       "  <folium.vector_layers.CircleMarker at 0x7f3f1e33b7b8>,\n",
       "  <folium.vector_layers.CircleMarker at 0x7f3f1e33b7f0>,\n",
       "  <folium.vector_layers.CircleMarker at 0x7f3f1e33b828>,\n",
       "  <folium.vector_layers.CircleMarker at 0x7f3f1e33b860>,\n",
       "  <folium.vector_layers.CircleMarker at 0x7f3f1e33b898>,\n",
       "  <folium.vector_layers.CircleMarker at 0x7f3f1e33b8d0>,\n",
       "  <folium.vector_layers.CircleMarker at 0x7f3f1e33b908>,\n",
       "  <folium.vector_layers.CircleMarker at 0x7f3f1e33b940>,\n",
       "  <folium.vector_layers.CircleMarker at 0x7f3f1e33b978>,\n",
       "  <folium.vector_layers.CircleMarker at 0x7f3f1e33b9b0>,\n",
       "  <folium.vector_layers.CircleMarker at 0x7f3f1e33b9e8>,\n",
       "  <folium.vector_layers.CircleMarker at 0x7f3f1e33ba20>,\n",
       "  <folium.vector_layers.CircleMarker at 0x7f3f1e33ba58>,\n",
       "  <folium.vector_layers.CircleMarker at 0x7f3f1e33ba90>,\n",
       "  <folium.vector_layers.CircleMarker at 0x7f3f1e33bac8>,\n",
       "  <folium.vector_layers.CircleMarker at 0x7f3f1e33bb00>,\n",
       "  <folium.vector_layers.CircleMarker at 0x7f3f1e33bb38>,\n",
       "  <folium.vector_layers.CircleMarker at 0x7f3f1e33bb70>,\n",
       "  <folium.vector_layers.CircleMarker at 0x7f3f1e33bba8>,\n",
       "  <folium.vector_layers.CircleMarker at 0x7f3f1e33bbe0>,\n",
       "  <folium.vector_layers.CircleMarker at 0x7f3f1e33bc18>,\n",
       "  <folium.vector_layers.CircleMarker at 0x7f3f1e33bc50>,\n",
       "  <folium.vector_layers.CircleMarker at 0x7f3f1e33bc88>,\n",
       "  <folium.vector_layers.CircleMarker at 0x7f3f1e33bcc0>,\n",
       "  <folium.vector_layers.CircleMarker at 0x7f3f1e33bcf8>,\n",
       "  <folium.vector_layers.CircleMarker at 0x7f3f1e33bd30>,\n",
       "  <folium.vector_layers.CircleMarker at 0x7f3f1e33bd68>,\n",
       "  <folium.vector_layers.CircleMarker at 0x7f3f1e33bda0>,\n",
       "  <folium.vector_layers.CircleMarker at 0x7f3f1e33bdd8>,\n",
       "  <folium.vector_layers.CircleMarker at 0x7f3f1e33be10>,\n",
       "  <folium.vector_layers.CircleMarker at 0x7f3f1e33be48>,\n",
       "  <folium.vector_layers.CircleMarker at 0x7f3f1e33be80>,\n",
       "  <folium.vector_layers.CircleMarker at 0x7f3f1e33beb8>,\n",
       "  <folium.vector_layers.CircleMarker at 0x7f3f1e33bf28>,\n",
       "  <folium.vector_layers.CircleMarker at 0x7f3f1e33bfd0>,\n",
       "  <folium.vector_layers.CircleMarker at 0x7f3f1e33bf60>,\n",
       "  <folium.vector_layers.CircleMarker at 0x7f3f1e33bef0>,\n",
       "  <folium.vector_layers.CircleMarker at 0x7f3f1e33b080>,\n",
       "  <folium.vector_layers.CircleMarker at 0x7f3f1e33bf98>,\n",
       "  <folium.vector_layers.CircleMarker at 0x7f3f1e34e048>,\n",
       "  <folium.vector_layers.CircleMarker at 0x7f3f1e34e0f0>,\n",
       "  <folium.vector_layers.CircleMarker at 0x7f3f1e34e160>,\n",
       "  <folium.vector_layers.CircleMarker at 0x7f3f1e34e1d0>,\n",
       "  <folium.vector_layers.CircleMarker at 0x7f3f1e34e208>,\n",
       "  <folium.vector_layers.CircleMarker at 0x7f3f1e34e278>,\n",
       "  <folium.vector_layers.CircleMarker at 0x7f3f1e34e2e8>,\n",
       "  <folium.vector_layers.CircleMarker at 0x7f3f1e34e0b8>,\n",
       "  <folium.vector_layers.CircleMarker at 0x7f3f1e34e128>,\n",
       "  <folium.vector_layers.CircleMarker at 0x7f3f1e34e198>,\n",
       "  <folium.vector_layers.CircleMarker at 0x7f3f1e34e240>,\n",
       "  <folium.vector_layers.CircleMarker at 0x7f3f1e34e2b0>,\n",
       "  <folium.vector_layers.CircleMarker at 0x7f3f1e34e320>,\n",
       "  <folium.vector_layers.CircleMarker at 0x7f3f1e34e358>,\n",
       "  <folium.vector_layers.CircleMarker at 0x7f3f1e34e390>,\n",
       "  <folium.vector_layers.CircleMarker at 0x7f3f1e34e3c8>,\n",
       "  <folium.vector_layers.CircleMarker at 0x7f3f1e34e400>,\n",
       "  <folium.vector_layers.CircleMarker at 0x7f3f1e34e438>,\n",
       "  <folium.vector_layers.CircleMarker at 0x7f3f1e34e470>,\n",
       "  <folium.vector_layers.CircleMarker at 0x7f3f1e34e4a8>,\n",
       "  <folium.vector_layers.CircleMarker at 0x7f3f1e34e4e0>,\n",
       "  <folium.vector_layers.CircleMarker at 0x7f3f1e34e518>,\n",
       "  <folium.vector_layers.CircleMarker at 0x7f3f1e34e550>,\n",
       "  <folium.vector_layers.CircleMarker at 0x7f3f1e34e588>,\n",
       "  <folium.vector_layers.CircleMarker at 0x7f3f1e34e5c0>,\n",
       "  <folium.vector_layers.CircleMarker at 0x7f3f1e34e5f8>,\n",
       "  <folium.vector_layers.CircleMarker at 0x7f3f1e34e630>,\n",
       "  <folium.vector_layers.CircleMarker at 0x7f3f1e34e668>,\n",
       "  <folium.vector_layers.CircleMarker at 0x7f3f1e34e6a0>,\n",
       "  <folium.vector_layers.CircleMarker at 0x7f3f1e34e6d8>,\n",
       "  <folium.vector_layers.CircleMarker at 0x7f3f1e34e710>,\n",
       "  <folium.vector_layers.CircleMarker at 0x7f3f1e34e748>,\n",
       "  <folium.vector_layers.CircleMarker at 0x7f3f1e34e780>,\n",
       "  <folium.vector_layers.CircleMarker at 0x7f3f1e34e7b8>,\n",
       "  <folium.vector_layers.CircleMarker at 0x7f3f1e34e7f0>,\n",
       "  <folium.vector_layers.CircleMarker at 0x7f3f1e34e828>,\n",
       "  <folium.vector_layers.CircleMarker at 0x7f3f1e34e860>,\n",
       "  <folium.vector_layers.CircleMarker at 0x7f3f1e34e898>,\n",
       "  <folium.vector_layers.CircleMarker at 0x7f3f1e34e8d0>,\n",
       "  <folium.vector_layers.CircleMarker at 0x7f3f1e34e908>,\n",
       "  <folium.vector_layers.CircleMarker at 0x7f3f1e34e940>,\n",
       "  <folium.vector_layers.CircleMarker at 0x7f3f1e34e978>,\n",
       "  <folium.vector_layers.CircleMarker at 0x7f3f1e34e9b0>,\n",
       "  <folium.vector_layers.CircleMarker at 0x7f3f1e34e9e8>,\n",
       "  <folium.vector_layers.CircleMarker at 0x7f3f1e34ea20>,\n",
       "  <folium.vector_layers.CircleMarker at 0x7f3f1e34ea58>,\n",
       "  <folium.vector_layers.CircleMarker at 0x7f3f1e34ea90>,\n",
       "  <folium.vector_layers.CircleMarker at 0x7f3f1e34eac8>,\n",
       "  <folium.vector_layers.CircleMarker at 0x7f3f1e34eb00>,\n",
       "  <folium.vector_layers.CircleMarker at 0x7f3f1e34eb38>,\n",
       "  <folium.vector_layers.CircleMarker at 0x7f3f1e34eb70>,\n",
       "  <folium.vector_layers.CircleMarker at 0x7f3f1e34eba8>,\n",
       "  <folium.vector_layers.CircleMarker at 0x7f3f1e34ebe0>,\n",
       "  <folium.vector_layers.CircleMarker at 0x7f3f1e34ec18>,\n",
       "  <folium.vector_layers.CircleMarker at 0x7f3f1e34ec50>,\n",
       "  <folium.vector_layers.CircleMarker at 0x7f3f1e34ec88>,\n",
       "  <folium.vector_layers.CircleMarker at 0x7f3f1e34ecc0>,\n",
       "  <folium.vector_layers.CircleMarker at 0x7f3f1e34ecf8>,\n",
       "  <folium.vector_layers.CircleMarker at 0x7f3f1e34ed30>,\n",
       "  <folium.vector_layers.CircleMarker at 0x7f3f1e34ed68>,\n",
       "  <folium.vector_layers.CircleMarker at 0x7f3f1e34eda0>,\n",
       "  <folium.vector_layers.CircleMarker at 0x7f3f1e34edd8>,\n",
       "  <folium.vector_layers.CircleMarker at 0x7f3f1e34ee10>,\n",
       "  <folium.vector_layers.CircleMarker at 0x7f3f1e34ee48>,\n",
       "  <folium.vector_layers.CircleMarker at 0x7f3f1e34ee80>,\n",
       "  <folium.vector_layers.CircleMarker at 0x7f3f1e34eeb8>,\n",
       "  <folium.vector_layers.CircleMarker at 0x7f3f1e34ef28>,\n",
       "  <folium.vector_layers.CircleMarker at 0x7f3f1e34efd0>,\n",
       "  <folium.vector_layers.CircleMarker at 0x7f3f1e34ef60>,\n",
       "  <folium.vector_layers.CircleMarker at 0x7f3f1e34eef0>,\n",
       "  <folium.vector_layers.CircleMarker at 0x7f3f1e34e080>,\n",
       "  <folium.vector_layers.CircleMarker at 0x7f3f1e34ef98>,\n",
       "  <folium.vector_layers.CircleMarker at 0x7f3f1e2dd048>,\n",
       "  <folium.vector_layers.CircleMarker at 0x7f3f1e2dd0f0>,\n",
       "  <folium.vector_layers.CircleMarker at 0x7f3f1e2dd160>,\n",
       "  <folium.vector_layers.CircleMarker at 0x7f3f1e2dd1d0>,\n",
       "  <folium.vector_layers.CircleMarker at 0x7f3f1e2dd208>,\n",
       "  <folium.vector_layers.CircleMarker at 0x7f3f1e2dd278>,\n",
       "  <folium.vector_layers.CircleMarker at 0x7f3f1e2dd2e8>,\n",
       "  <folium.vector_layers.CircleMarker at 0x7f3f1e2dd0b8>,\n",
       "  <folium.vector_layers.CircleMarker at 0x7f3f1e2dd128>,\n",
       "  <folium.vector_layers.CircleMarker at 0x7f3f1e2dd198>,\n",
       "  <folium.vector_layers.CircleMarker at 0x7f3f1e2dd240>,\n",
       "  <folium.vector_layers.CircleMarker at 0x7f3f1e2dd2b0>,\n",
       "  <folium.vector_layers.CircleMarker at 0x7f3f1e2dd320>,\n",
       "  <folium.vector_layers.CircleMarker at 0x7f3f1e2dd358>,\n",
       "  <folium.vector_layers.CircleMarker at 0x7f3f1e2dd390>,\n",
       "  <folium.vector_layers.CircleMarker at 0x7f3f1e2dd3c8>,\n",
       "  <folium.vector_layers.CircleMarker at 0x7f3f1e2dd400>,\n",
       "  <folium.vector_layers.CircleMarker at 0x7f3f1e2dd438>,\n",
       "  <folium.vector_layers.CircleMarker at 0x7f3f1e2dd470>,\n",
       "  <folium.vector_layers.CircleMarker at 0x7f3f1e2dd4a8>,\n",
       "  <folium.vector_layers.CircleMarker at 0x7f3f1e2dd4e0>,\n",
       "  <folium.vector_layers.CircleMarker at 0x7f3f1e2dd518>,\n",
       "  <folium.vector_layers.CircleMarker at 0x7f3f1e2dd550>,\n",
       "  <folium.vector_layers.CircleMarker at 0x7f3f1e2dd588>,\n",
       "  <folium.vector_layers.CircleMarker at 0x7f3f1e2dd5c0>,\n",
       "  <folium.vector_layers.CircleMarker at 0x7f3f1e2dd5f8>,\n",
       "  <folium.vector_layers.CircleMarker at 0x7f3f1e2dd630>,\n",
       "  <folium.vector_layers.CircleMarker at 0x7f3f1e2dd668>,\n",
       "  <folium.vector_layers.CircleMarker at 0x7f3f1e2dd6a0>,\n",
       "  <folium.vector_layers.CircleMarker at 0x7f3f1e2dd6d8>,\n",
       "  <folium.vector_layers.CircleMarker at 0x7f3f1e2dd710>,\n",
       "  <folium.vector_layers.CircleMarker at 0x7f3f1e2dd748>,\n",
       "  <folium.vector_layers.CircleMarker at 0x7f3f1e2dd780>,\n",
       "  <folium.vector_layers.CircleMarker at 0x7f3f1e2dd7b8>,\n",
       "  <folium.vector_layers.CircleMarker at 0x7f3f1e2dd7f0>,\n",
       "  <folium.vector_layers.CircleMarker at 0x7f3f1e2dd828>,\n",
       "  <folium.vector_layers.CircleMarker at 0x7f3f1e2dd860>,\n",
       "  <folium.vector_layers.CircleMarker at 0x7f3f1e2dd898>,\n",
       "  <folium.vector_layers.CircleMarker at 0x7f3f1e2dd8d0>,\n",
       "  <folium.vector_layers.CircleMarker at 0x7f3f1e2dd908>,\n",
       "  <folium.vector_layers.CircleMarker at 0x7f3f1e2dd940>,\n",
       "  <folium.vector_layers.CircleMarker at 0x7f3f1e2dd978>,\n",
       "  <folium.vector_layers.CircleMarker at 0x7f3f1e2dd9b0>,\n",
       "  <folium.vector_layers.CircleMarker at 0x7f3f1e2dd9e8>,\n",
       "  <folium.vector_layers.CircleMarker at 0x7f3f1e2dda20>,\n",
       "  <folium.vector_layers.CircleMarker at 0x7f3f1e2dda58>,\n",
       "  <folium.vector_layers.CircleMarker at 0x7f3f1e2dda90>,\n",
       "  <folium.vector_layers.CircleMarker at 0x7f3f1e2ddac8>,\n",
       "  <folium.vector_layers.CircleMarker at 0x7f3f1e2ddb00>,\n",
       "  <folium.vector_layers.CircleMarker at 0x7f3f1e2ddb38>,\n",
       "  <folium.vector_layers.CircleMarker at 0x7f3f1e2ddb70>,\n",
       "  <folium.vector_layers.CircleMarker at 0x7f3f1e2ddba8>,\n",
       "  <folium.vector_layers.CircleMarker at 0x7f3f1e2ddbe0>,\n",
       "  <folium.vector_layers.CircleMarker at 0x7f3f1e2ddc18>,\n",
       "  <folium.vector_layers.CircleMarker at 0x7f3f1e2ddc50>,\n",
       "  <folium.vector_layers.CircleMarker at 0x7f3f1e2ddc88>,\n",
       "  <folium.vector_layers.CircleMarker at 0x7f3f1e2ddcc0>,\n",
       "  <folium.vector_layers.CircleMarker at 0x7f3f1e2ddcf8>,\n",
       "  <folium.vector_layers.CircleMarker at 0x7f3f1e2ddd30>,\n",
       "  <folium.vector_layers.CircleMarker at 0x7f3f1e2ddd68>,\n",
       "  <folium.vector_layers.CircleMarker at 0x7f3f1e2ddda0>,\n",
       "  <folium.vector_layers.CircleMarker at 0x7f3f1e2dddd8>,\n",
       "  <folium.vector_layers.CircleMarker at 0x7f3f1e2dde10>,\n",
       "  <folium.vector_layers.CircleMarker at 0x7f3f1e2dde48>,\n",
       "  <folium.vector_layers.CircleMarker at 0x7f3f1e2dde80>,\n",
       "  <folium.vector_layers.CircleMarker at 0x7f3f1e2ddeb8>,\n",
       "  <folium.vector_layers.CircleMarker at 0x7f3f1e2ddf28>,\n",
       "  <folium.vector_layers.CircleMarker at 0x7f3f1e2ddfd0>,\n",
       "  <folium.vector_layers.CircleMarker at 0x7f3f1e2ddf60>,\n",
       "  <folium.vector_layers.CircleMarker at 0x7f3f1e2ddef0>,\n",
       "  <folium.vector_layers.CircleMarker at 0x7f3f1e2dd080>,\n",
       "  <folium.vector_layers.CircleMarker at 0x7f3f1e2ddf98>,\n",
       "  <folium.vector_layers.CircleMarker at 0x7f3f1e2ee048>,\n",
       "  <folium.vector_layers.CircleMarker at 0x7f3f1e2ee0f0>,\n",
       "  <folium.vector_layers.CircleMarker at 0x7f3f1e2ee160>,\n",
       "  <folium.vector_layers.CircleMarker at 0x7f3f1e2ee1d0>,\n",
       "  <folium.vector_layers.CircleMarker at 0x7f3f1e2ee208>,\n",
       "  <folium.vector_layers.CircleMarker at 0x7f3f1e2ee278>,\n",
       "  <folium.vector_layers.CircleMarker at 0x7f3f1e2ee2e8>,\n",
       "  <folium.vector_layers.CircleMarker at 0x7f3f1e2ee0b8>,\n",
       "  <folium.vector_layers.CircleMarker at 0x7f3f1e2ee128>,\n",
       "  <folium.vector_layers.CircleMarker at 0x7f3f1e2ee198>,\n",
       "  <folium.vector_layers.CircleMarker at 0x7f3f1e2ee240>,\n",
       "  <folium.vector_layers.CircleMarker at 0x7f3f1e2ee2b0>,\n",
       "  <folium.vector_layers.CircleMarker at 0x7f3f1e2ee320>,\n",
       "  <folium.vector_layers.CircleMarker at 0x7f3f1e2ee358>,\n",
       "  <folium.vector_layers.CircleMarker at 0x7f3f1e2ee390>,\n",
       "  <folium.vector_layers.CircleMarker at 0x7f3f1e2ee3c8>,\n",
       "  <folium.vector_layers.CircleMarker at 0x7f3f1e2ee400>,\n",
       "  <folium.vector_layers.CircleMarker at 0x7f3f1e2ee438>,\n",
       "  <folium.vector_layers.CircleMarker at 0x7f3f1e2ee470>,\n",
       "  <folium.vector_layers.CircleMarker at 0x7f3f1e2ee4a8>,\n",
       "  <folium.vector_layers.CircleMarker at 0x7f3f1e2ee4e0>,\n",
       "  <folium.vector_layers.CircleMarker at 0x7f3f1e2ee518>,\n",
       "  <folium.vector_layers.CircleMarker at 0x7f3f1e2ee550>,\n",
       "  <folium.vector_layers.CircleMarker at 0x7f3f1e2ee588>,\n",
       "  <folium.vector_layers.CircleMarker at 0x7f3f1e2ee5c0>,\n",
       "  <folium.vector_layers.CircleMarker at 0x7f3f1e2ee5f8>,\n",
       "  <folium.vector_layers.CircleMarker at 0x7f3f1e2ee630>,\n",
       "  <folium.vector_layers.CircleMarker at 0x7f3f1e2ee668>,\n",
       "  <folium.vector_layers.CircleMarker at 0x7f3f1e2ee6a0>,\n",
       "  <folium.vector_layers.CircleMarker at 0x7f3f1e2ee6d8>,\n",
       "  <folium.vector_layers.CircleMarker at 0x7f3f1e2ee710>,\n",
       "  <folium.vector_layers.CircleMarker at 0x7f3f1e2ee748>,\n",
       "  <folium.vector_layers.CircleMarker at 0x7f3f1e2ee780>,\n",
       "  <folium.vector_layers.CircleMarker at 0x7f3f1e2ee7b8>,\n",
       "  <folium.vector_layers.CircleMarker at 0x7f3f1e2ee7f0>,\n",
       "  <folium.vector_layers.CircleMarker at 0x7f3f1e2ee828>,\n",
       "  <folium.vector_layers.CircleMarker at 0x7f3f1e2ee860>,\n",
       "  <folium.vector_layers.CircleMarker at 0x7f3f1e2ee898>,\n",
       "  <folium.vector_layers.CircleMarker at 0x7f3f1e2ee8d0>,\n",
       "  <folium.vector_layers.CircleMarker at 0x7f3f1e2ee908>,\n",
       "  <folium.vector_layers.CircleMarker at 0x7f3f1e2ee940>,\n",
       "  <folium.vector_layers.CircleMarker at 0x7f3f1e2ee978>,\n",
       "  <folium.vector_layers.CircleMarker at 0x7f3f1e2ee9b0>,\n",
       "  <folium.vector_layers.CircleMarker at 0x7f3f1e2ee9e8>,\n",
       "  <folium.vector_layers.CircleMarker at 0x7f3f1e2eea20>,\n",
       "  <folium.vector_layers.CircleMarker at 0x7f3f1e2eea58>,\n",
       "  <folium.vector_layers.CircleMarker at 0x7f3f1e2eea90>,\n",
       "  <folium.vector_layers.CircleMarker at 0x7f3f1e2eeac8>,\n",
       "  <folium.vector_layers.CircleMarker at 0x7f3f1e2eeb00>,\n",
       "  <folium.vector_layers.CircleMarker at 0x7f3f1e2eeb38>,\n",
       "  <folium.vector_layers.CircleMarker at 0x7f3f1e2eeb70>,\n",
       "  <folium.vector_layers.CircleMarker at 0x7f3f1e2eeba8>,\n",
       "  <folium.vector_layers.CircleMarker at 0x7f3f1e2eebe0>,\n",
       "  <folium.vector_layers.CircleMarker at 0x7f3f1e2eec18>,\n",
       "  <folium.vector_layers.CircleMarker at 0x7f3f1e2eec50>,\n",
       "  <folium.vector_layers.CircleMarker at 0x7f3f1e2eec88>,\n",
       "  <folium.vector_layers.CircleMarker at 0x7f3f1e2eecc0>,\n",
       "  <folium.vector_layers.CircleMarker at 0x7f3f1e2eecf8>,\n",
       "  <folium.vector_layers.CircleMarker at 0x7f3f1e2eed30>,\n",
       "  <folium.vector_layers.CircleMarker at 0x7f3f1e2eed68>,\n",
       "  <folium.vector_layers.CircleMarker at 0x7f3f1e2eeda0>,\n",
       "  <folium.vector_layers.CircleMarker at 0x7f3f1e2eedd8>,\n",
       "  <folium.vector_layers.CircleMarker at 0x7f3f1e2eee10>,\n",
       "  <folium.vector_layers.CircleMarker at 0x7f3f1e2eee48>,\n",
       "  <folium.vector_layers.CircleMarker at 0x7f3f1e2eee80>,\n",
       "  <folium.vector_layers.CircleMarker at 0x7f3f1e2eeeb8>,\n",
       "  <folium.vector_layers.CircleMarker at 0x7f3f1e2eef28>,\n",
       "  <folium.vector_layers.CircleMarker at 0x7f3f1e2eefd0>,\n",
       "  <folium.vector_layers.CircleMarker at 0x7f3f1e2eef60>,\n",
       "  <folium.vector_layers.CircleMarker at 0x7f3f1e2eeef0>,\n",
       "  <folium.vector_layers.CircleMarker at 0x7f3f1e2ee080>,\n",
       "  <folium.vector_layers.CircleMarker at 0x7f3f1e2eef98>,\n",
       "  <folium.vector_layers.CircleMarker at 0x7f3f1e2fc048>,\n",
       "  <folium.vector_layers.CircleMarker at 0x7f3f1e2fc0f0>,\n",
       "  <folium.vector_layers.CircleMarker at 0x7f3f1e2fc160>,\n",
       "  <folium.vector_layers.CircleMarker at 0x7f3f1e2fc1d0>,\n",
       "  <folium.vector_layers.CircleMarker at 0x7f3f1e2fc208>,\n",
       "  <folium.vector_layers.CircleMarker at 0x7f3f1e2fc278>,\n",
       "  <folium.vector_layers.CircleMarker at 0x7f3f1e2fc2e8>,\n",
       "  <folium.vector_layers.CircleMarker at 0x7f3f1e2fc0b8>,\n",
       "  <folium.vector_layers.CircleMarker at 0x7f3f1e2fc128>,\n",
       "  <folium.vector_layers.CircleMarker at 0x7f3f1e2fc198>,\n",
       "  <folium.vector_layers.CircleMarker at 0x7f3f1e2fc240>,\n",
       "  <folium.vector_layers.CircleMarker at 0x7f3f1e2fc2b0>,\n",
       "  <folium.vector_layers.CircleMarker at 0x7f3f1e2fc320>,\n",
       "  <folium.vector_layers.CircleMarker at 0x7f3f1e2fc358>,\n",
       "  <folium.vector_layers.CircleMarker at 0x7f3f1e2fc390>,\n",
       "  <folium.vector_layers.CircleMarker at 0x7f3f1e2fc3c8>,\n",
       "  <folium.vector_layers.CircleMarker at 0x7f3f1e2fc400>,\n",
       "  <folium.vector_layers.CircleMarker at 0x7f3f1e2fc438>,\n",
       "  <folium.vector_layers.CircleMarker at 0x7f3f1e2fc470>,\n",
       "  <folium.vector_layers.CircleMarker at 0x7f3f1e2fc4a8>,\n",
       "  <folium.vector_layers.CircleMarker at 0x7f3f1e2fc4e0>,\n",
       "  <folium.vector_layers.CircleMarker at 0x7f3f1e2fc518>,\n",
       "  <folium.vector_layers.CircleMarker at 0x7f3f1e2fc550>,\n",
       "  <folium.vector_layers.CircleMarker at 0x7f3f1e2fc588>,\n",
       "  <folium.vector_layers.CircleMarker at 0x7f3f1e2fc5c0>,\n",
       "  <folium.vector_layers.CircleMarker at 0x7f3f1e2fc5f8>,\n",
       "  <folium.vector_layers.CircleMarker at 0x7f3f1e2fc630>,\n",
       "  <folium.vector_layers.CircleMarker at 0x7f3f1e2fc668>,\n",
       "  <folium.vector_layers.CircleMarker at 0x7f3f1e2fc6a0>,\n",
       "  <folium.vector_layers.CircleMarker at 0x7f3f1e2fc6d8>,\n",
       "  <folium.vector_layers.CircleMarker at 0x7f3f1e2fc710>,\n",
       "  <folium.vector_layers.CircleMarker at 0x7f3f1e2fc748>,\n",
       "  <folium.vector_layers.CircleMarker at 0x7f3f1e2fc780>,\n",
       "  <folium.vector_layers.CircleMarker at 0x7f3f1e2fc7b8>,\n",
       "  <folium.vector_layers.CircleMarker at 0x7f3f1e2fc7f0>,\n",
       "  <folium.vector_layers.CircleMarker at 0x7f3f1e2fc828>,\n",
       "  <folium.vector_layers.CircleMarker at 0x7f3f1e2fc860>,\n",
       "  <folium.vector_layers.CircleMarker at 0x7f3f1e2fc898>,\n",
       "  <folium.vector_layers.CircleMarker at 0x7f3f1e2fc8d0>,\n",
       "  <folium.vector_layers.CircleMarker at 0x7f3f1e2fc908>,\n",
       "  <folium.vector_layers.CircleMarker at 0x7f3f1e2fc940>,\n",
       "  <folium.vector_layers.CircleMarker at 0x7f3f1e2fc978>,\n",
       "  <folium.vector_layers.CircleMarker at 0x7f3f1e2fc9b0>,\n",
       "  <folium.vector_layers.CircleMarker at 0x7f3f1e2fc9e8>,\n",
       "  <folium.vector_layers.CircleMarker at 0x7f3f1e2fca20>,\n",
       "  <folium.vector_layers.CircleMarker at 0x7f3f1e2fca58>,\n",
       "  <folium.vector_layers.CircleMarker at 0x7f3f1e2fca90>,\n",
       "  <folium.vector_layers.CircleMarker at 0x7f3f1e2fcac8>,\n",
       "  <folium.vector_layers.CircleMarker at 0x7f3f1e2fcb00>,\n",
       "  <folium.vector_layers.CircleMarker at 0x7f3f1e2fcb38>,\n",
       "  <folium.vector_layers.CircleMarker at 0x7f3f1e2fcb70>,\n",
       "  <folium.vector_layers.CircleMarker at 0x7f3f1e2fcba8>,\n",
       "  <folium.vector_layers.CircleMarker at 0x7f3f1e2fcbe0>,\n",
       "  <folium.vector_layers.CircleMarker at 0x7f3f1e2fcc18>,\n",
       "  <folium.vector_layers.CircleMarker at 0x7f3f1e2fcc50>,\n",
       "  <folium.vector_layers.CircleMarker at 0x7f3f1e2fcc88>,\n",
       "  <folium.vector_layers.CircleMarker at 0x7f3f1e2fccc0>,\n",
       "  <folium.vector_layers.CircleMarker at 0x7f3f1e2fccf8>,\n",
       "  <folium.vector_layers.CircleMarker at 0x7f3f1e2fcd30>,\n",
       "  <folium.vector_layers.CircleMarker at 0x7f3f1e2fcd68>,\n",
       "  <folium.vector_layers.CircleMarker at 0x7f3f1e2fcda0>,\n",
       "  <folium.vector_layers.CircleMarker at 0x7f3f1e2fcdd8>,\n",
       "  <folium.vector_layers.CircleMarker at 0x7f3f1e2fce10>,\n",
       "  <folium.vector_layers.CircleMarker at 0x7f3f1e2fce48>,\n",
       "  <folium.vector_layers.CircleMarker at 0x7f3f1e2fce80>,\n",
       "  <folium.vector_layers.CircleMarker at 0x7f3f1e2fceb8>,\n",
       "  <folium.vector_layers.CircleMarker at 0x7f3f1e2fcf28>,\n",
       "  <folium.vector_layers.CircleMarker at 0x7f3f1e2fcfd0>,\n",
       "  <folium.vector_layers.CircleMarker at 0x7f3f1e2fcf60>,\n",
       "  <folium.vector_layers.CircleMarker at 0x7f3f1e2fcef0>,\n",
       "  <folium.vector_layers.CircleMarker at 0x7f3f1e2fc080>,\n",
       "  <folium.vector_layers.CircleMarker at 0x7f3f1e2fcf98>,\n",
       "  <folium.vector_layers.CircleMarker at 0x7f3f1e310048>,\n",
       "  <folium.vector_layers.CircleMarker at 0x7f3f1e3100f0>,\n",
       "  <folium.vector_layers.CircleMarker at 0x7f3f1e310160>,\n",
       "  <folium.vector_layers.CircleMarker at 0x7f3f1e3101d0>,\n",
       "  <folium.vector_layers.CircleMarker at 0x7f3f1e310208>,\n",
       "  <folium.vector_layers.CircleMarker at 0x7f3f1e310278>,\n",
       "  <folium.vector_layers.CircleMarker at 0x7f3f1e3102e8>,\n",
       "  <folium.vector_layers.CircleMarker at 0x7f3f1e3100b8>,\n",
       "  <folium.vector_layers.CircleMarker at 0x7f3f1e310128>,\n",
       "  <folium.vector_layers.CircleMarker at 0x7f3f1e310198>,\n",
       "  <folium.vector_layers.CircleMarker at 0x7f3f1e310240>,\n",
       "  <folium.vector_layers.CircleMarker at 0x7f3f1e3102b0>,\n",
       "  <folium.vector_layers.CircleMarker at 0x7f3f1e310320>,\n",
       "  <folium.vector_layers.CircleMarker at 0x7f3f1e310358>,\n",
       "  <folium.vector_layers.CircleMarker at 0x7f3f1e310390>,\n",
       "  <folium.vector_layers.CircleMarker at 0x7f3f1e3103c8>,\n",
       "  <folium.vector_layers.CircleMarker at 0x7f3f1e310400>,\n",
       "  <folium.vector_layers.CircleMarker at 0x7f3f1e310438>,\n",
       "  <folium.vector_layers.CircleMarker at 0x7f3f1e310470>,\n",
       "  <folium.vector_layers.CircleMarker at 0x7f3f1e3104a8>,\n",
       "  <folium.vector_layers.CircleMarker at 0x7f3f1e3104e0>,\n",
       "  <folium.vector_layers.CircleMarker at 0x7f3f1e310518>,\n",
       "  <folium.vector_layers.CircleMarker at 0x7f3f1e310550>,\n",
       "  <folium.vector_layers.CircleMarker at 0x7f3f1e310588>,\n",
       "  <folium.vector_layers.CircleMarker at 0x7f3f1e3105c0>,\n",
       "  <folium.vector_layers.CircleMarker at 0x7f3f1e3105f8>,\n",
       "  <folium.vector_layers.CircleMarker at 0x7f3f1e310630>,\n",
       "  <folium.vector_layers.CircleMarker at 0x7f3f1e310668>,\n",
       "  <folium.vector_layers.CircleMarker at 0x7f3f1e3106a0>,\n",
       "  <folium.vector_layers.CircleMarker at 0x7f3f1e3106d8>,\n",
       "  <folium.vector_layers.CircleMarker at 0x7f3f1e310710>,\n",
       "  <folium.vector_layers.CircleMarker at 0x7f3f1e310748>,\n",
       "  <folium.vector_layers.CircleMarker at 0x7f3f1e310780>,\n",
       "  <folium.vector_layers.CircleMarker at 0x7f3f1e3107b8>,\n",
       "  <folium.vector_layers.CircleMarker at 0x7f3f1e3107f0>,\n",
       "  <folium.vector_layers.CircleMarker at 0x7f3f1e310828>,\n",
       "  <folium.vector_layers.CircleMarker at 0x7f3f1e310860>,\n",
       "  <folium.vector_layers.CircleMarker at 0x7f3f1e310898>,\n",
       "  <folium.vector_layers.CircleMarker at 0x7f3f1e3108d0>,\n",
       "  <folium.vector_layers.CircleMarker at 0x7f3f1e310908>,\n",
       "  <folium.vector_layers.CircleMarker at 0x7f3f1e310940>,\n",
       "  <folium.vector_layers.CircleMarker at 0x7f3f1e310978>,\n",
       "  <folium.vector_layers.CircleMarker at 0x7f3f1e3109b0>,\n",
       "  <folium.vector_layers.CircleMarker at 0x7f3f1e3109e8>,\n",
       "  <folium.vector_layers.CircleMarker at 0x7f3f1e310a20>,\n",
       "  <folium.vector_layers.CircleMarker at 0x7f3f1e310a58>,\n",
       "  <folium.vector_layers.CircleMarker at 0x7f3f1e310a90>,\n",
       "  <folium.vector_layers.CircleMarker at 0x7f3f1e310ac8>,\n",
       "  <folium.vector_layers.CircleMarker at 0x7f3f1e310b00>,\n",
       "  <folium.vector_layers.CircleMarker at 0x7f3f1e310b38>,\n",
       "  <folium.vector_layers.CircleMarker at 0x7f3f1e310b70>,\n",
       "  <folium.vector_layers.CircleMarker at 0x7f3f1e310ba8>,\n",
       "  <folium.vector_layers.CircleMarker at 0x7f3f1e310be0>,\n",
       "  <folium.vector_layers.CircleMarker at 0x7f3f1e310c18>,\n",
       "  <folium.vector_layers.CircleMarker at 0x7f3f1e310c50>,\n",
       "  <folium.vector_layers.CircleMarker at 0x7f3f1e310c88>,\n",
       "  <folium.vector_layers.CircleMarker at 0x7f3f1e310cc0>,\n",
       "  <folium.vector_layers.CircleMarker at 0x7f3f1e310cf8>,\n",
       "  <folium.vector_layers.CircleMarker at 0x7f3f1e310d30>,\n",
       "  <folium.vector_layers.CircleMarker at 0x7f3f1e310d68>,\n",
       "  <folium.vector_layers.CircleMarker at 0x7f3f1e310da0>,\n",
       "  <folium.vector_layers.CircleMarker at 0x7f3f1e310dd8>,\n",
       "  <folium.vector_layers.CircleMarker at 0x7f3f1e310e10>,\n",
       "  <folium.vector_layers.CircleMarker at 0x7f3f1e310e48>,\n",
       "  <folium.vector_layers.CircleMarker at 0x7f3f1e310e80>,\n",
       "  <folium.vector_layers.CircleMarker at 0x7f3f1e310eb8>,\n",
       "  <folium.vector_layers.CircleMarker at 0x7f3f1e310f28>,\n",
       "  <folium.vector_layers.CircleMarker at 0x7f3f1e310fd0>,\n",
       "  <folium.vector_layers.CircleMarker at 0x7f3f1e310f60>,\n",
       "  <folium.vector_layers.CircleMarker at 0x7f3f1e310ef0>,\n",
       "  <folium.vector_layers.CircleMarker at 0x7f3f1e310080>,\n",
       "  <folium.vector_layers.CircleMarker at 0x7f3f1e310f98>,\n",
       "  <folium.vector_layers.CircleMarker at 0x7f3f1e29f048>,\n",
       "  <folium.vector_layers.CircleMarker at 0x7f3f1e29f0f0>,\n",
       "  <folium.vector_layers.CircleMarker at 0x7f3f1e29f160>,\n",
       "  <folium.vector_layers.CircleMarker at 0x7f3f1e29f1d0>,\n",
       "  <folium.vector_layers.CircleMarker at 0x7f3f1e29f208>,\n",
       "  <folium.vector_layers.CircleMarker at 0x7f3f1e29f278>,\n",
       "  <folium.vector_layers.CircleMarker at 0x7f3f1e29f2e8>,\n",
       "  <folium.vector_layers.CircleMarker at 0x7f3f1e29f0b8>,\n",
       "  <folium.vector_layers.CircleMarker at 0x7f3f1e29f128>,\n",
       "  <folium.vector_layers.CircleMarker at 0x7f3f1e29f198>,\n",
       "  <folium.vector_layers.CircleMarker at 0x7f3f1e29f240>,\n",
       "  <folium.vector_layers.CircleMarker at 0x7f3f1e29f2b0>,\n",
       "  <folium.vector_layers.CircleMarker at 0x7f3f1e29f320>,\n",
       "  <folium.vector_layers.CircleMarker at 0x7f3f1e29f358>,\n",
       "  <folium.vector_layers.CircleMarker at 0x7f3f1e29f390>,\n",
       "  <folium.vector_layers.CircleMarker at 0x7f3f1e29f3c8>,\n",
       "  <folium.vector_layers.CircleMarker at 0x7f3f1e29f400>,\n",
       "  <folium.vector_layers.CircleMarker at 0x7f3f1e29f438>,\n",
       "  <folium.vector_layers.CircleMarker at 0x7f3f1e29f470>,\n",
       "  <folium.vector_layers.CircleMarker at 0x7f3f1e29f4a8>,\n",
       "  <folium.vector_layers.CircleMarker at 0x7f3f1e29f4e0>,\n",
       "  <folium.vector_layers.CircleMarker at 0x7f3f1e29f518>,\n",
       "  <folium.vector_layers.CircleMarker at 0x7f3f1e29f550>,\n",
       "  <folium.vector_layers.CircleMarker at 0x7f3f1e29f588>,\n",
       "  <folium.vector_layers.CircleMarker at 0x7f3f1e29f5c0>,\n",
       "  <folium.vector_layers.CircleMarker at 0x7f3f1e29f5f8>,\n",
       "  <folium.vector_layers.CircleMarker at 0x7f3f1e29f630>,\n",
       "  <folium.vector_layers.CircleMarker at 0x7f3f1e29f668>,\n",
       "  <folium.vector_layers.CircleMarker at 0x7f3f1e29f6a0>,\n",
       "  <folium.vector_layers.CircleMarker at 0x7f3f1e29f6d8>,\n",
       "  <folium.vector_layers.CircleMarker at 0x7f3f1e29f710>,\n",
       "  <folium.vector_layers.CircleMarker at 0x7f3f1e29f748>,\n",
       "  <folium.vector_layers.CircleMarker at 0x7f3f1e29f780>,\n",
       "  <folium.vector_layers.CircleMarker at 0x7f3f1e29f7b8>,\n",
       "  <folium.vector_layers.CircleMarker at 0x7f3f1e29f7f0>,\n",
       "  <folium.vector_layers.CircleMarker at 0x7f3f1e29f828>,\n",
       "  <folium.vector_layers.CircleMarker at 0x7f3f1e29f860>,\n",
       "  <folium.vector_layers.CircleMarker at 0x7f3f1e29f898>,\n",
       "  <folium.vector_layers.CircleMarker at 0x7f3f1e29f8d0>,\n",
       "  <folium.vector_layers.CircleMarker at 0x7f3f1e29f908>,\n",
       "  <folium.vector_layers.CircleMarker at 0x7f3f1e29f940>,\n",
       "  <folium.vector_layers.CircleMarker at 0x7f3f1e29f978>,\n",
       "  <folium.vector_layers.CircleMarker at 0x7f3f1e29f9b0>,\n",
       "  <folium.vector_layers.CircleMarker at 0x7f3f1e29f9e8>,\n",
       "  <folium.vector_layers.CircleMarker at 0x7f3f1e29fa20>,\n",
       "  <folium.vector_layers.CircleMarker at 0x7f3f1e29fa58>,\n",
       "  <folium.vector_layers.CircleMarker at 0x7f3f1e29fa90>,\n",
       "  <folium.vector_layers.CircleMarker at 0x7f3f1e29fac8>,\n",
       "  <folium.vector_layers.CircleMarker at 0x7f3f1e29fb00>,\n",
       "  <folium.vector_layers.CircleMarker at 0x7f3f1e29fb38>,\n",
       "  <folium.vector_layers.CircleMarker at 0x7f3f1e29fb70>,\n",
       "  <folium.vector_layers.CircleMarker at 0x7f3f1e29fba8>,\n",
       "  <folium.vector_layers.CircleMarker at 0x7f3f1e29fbe0>,\n",
       "  <folium.vector_layers.CircleMarker at 0x7f3f1e29fc18>,\n",
       "  <folium.vector_layers.CircleMarker at 0x7f3f1e29fc50>,\n",
       "  <folium.vector_layers.CircleMarker at 0x7f3f1e29fc88>,\n",
       "  <folium.vector_layers.CircleMarker at 0x7f3f1e29fcc0>,\n",
       "  <folium.vector_layers.CircleMarker at 0x7f3f1e29fcf8>,\n",
       "  <folium.vector_layers.CircleMarker at 0x7f3f1e29fd30>,\n",
       "  <folium.vector_layers.CircleMarker at 0x7f3f1e29fd68>,\n",
       "  <folium.vector_layers.CircleMarker at 0x7f3f1e29fda0>,\n",
       "  <folium.vector_layers.CircleMarker at 0x7f3f1e29fdd8>,\n",
       "  <folium.vector_layers.CircleMarker at 0x7f3f1e29fe10>,\n",
       "  <folium.vector_layers.CircleMarker at 0x7f3f1e29fe48>,\n",
       "  <folium.vector_layers.CircleMarker at 0x7f3f1e29fe80>,\n",
       "  <folium.vector_layers.CircleMarker at 0x7f3f1e29feb8>,\n",
       "  <folium.vector_layers.CircleMarker at 0x7f3f1e29ff28>,\n",
       "  <folium.vector_layers.CircleMarker at 0x7f3f1e29ffd0>,\n",
       "  <folium.vector_layers.CircleMarker at 0x7f3f1e29ff60>,\n",
       "  <folium.vector_layers.CircleMarker at 0x7f3f1e29fef0>,\n",
       "  <folium.vector_layers.CircleMarker at 0x7f3f1e29f080>,\n",
       "  <folium.vector_layers.CircleMarker at 0x7f3f1e29ff98>,\n",
       "  <folium.vector_layers.CircleMarker at 0x7f3f1e2b2048>,\n",
       "  <folium.vector_layers.CircleMarker at 0x7f3f1e2b20f0>,\n",
       "  <folium.vector_layers.CircleMarker at 0x7f3f1e2b2160>,\n",
       "  <folium.vector_layers.CircleMarker at 0x7f3f1e2b21d0>,\n",
       "  <folium.vector_layers.CircleMarker at 0x7f3f1e2b2208>,\n",
       "  <folium.vector_layers.CircleMarker at 0x7f3f1e2b2278>,\n",
       "  <folium.vector_layers.CircleMarker at 0x7f3f1e2b22e8>,\n",
       "  <folium.vector_layers.CircleMarker at 0x7f3f1e2b20b8>,\n",
       "  <folium.vector_layers.CircleMarker at 0x7f3f1e2b2128>,\n",
       "  <folium.vector_layers.CircleMarker at 0x7f3f1e2b2198>,\n",
       "  <folium.vector_layers.CircleMarker at 0x7f3f1e2b2240>,\n",
       "  <folium.vector_layers.CircleMarker at 0x7f3f1e2b22b0>,\n",
       "  <folium.vector_layers.CircleMarker at 0x7f3f1e2b2320>,\n",
       "  <folium.vector_layers.CircleMarker at 0x7f3f1e2b2358>,\n",
       "  <folium.vector_layers.CircleMarker at 0x7f3f1e2b2390>,\n",
       "  <folium.vector_layers.CircleMarker at 0x7f3f1e2b23c8>,\n",
       "  <folium.vector_layers.CircleMarker at 0x7f3f1e2b2400>,\n",
       "  <folium.vector_layers.CircleMarker at 0x7f3f1e2b2438>,\n",
       "  <folium.vector_layers.CircleMarker at 0x7f3f1e2b2470>,\n",
       "  <folium.vector_layers.CircleMarker at 0x7f3f1e2b24a8>,\n",
       "  <folium.vector_layers.CircleMarker at 0x7f3f1e2b24e0>,\n",
       "  <folium.vector_layers.CircleMarker at 0x7f3f1e2b2518>,\n",
       "  <folium.vector_layers.CircleMarker at 0x7f3f1e2b2550>,\n",
       "  <folium.vector_layers.CircleMarker at 0x7f3f1e2b2588>,\n",
       "  <folium.vector_layers.CircleMarker at 0x7f3f1e2b25c0>,\n",
       "  <folium.vector_layers.CircleMarker at 0x7f3f1e2b25f8>,\n",
       "  <folium.vector_layers.CircleMarker at 0x7f3f1e2b2630>,\n",
       "  <folium.vector_layers.CircleMarker at 0x7f3f1e2b2668>,\n",
       "  <folium.vector_layers.CircleMarker at 0x7f3f1e2b26a0>,\n",
       "  <folium.vector_layers.CircleMarker at 0x7f3f1e2b26d8>,\n",
       "  <folium.vector_layers.CircleMarker at 0x7f3f1e2b2710>,\n",
       "  <folium.vector_layers.CircleMarker at 0x7f3f1e2b2748>,\n",
       "  <folium.vector_layers.CircleMarker at 0x7f3f1e2b2780>,\n",
       "  <folium.vector_layers.CircleMarker at 0x7f3f1e2b27b8>,\n",
       "  <folium.vector_layers.CircleMarker at 0x7f3f1e2b27f0>,\n",
       "  <folium.vector_layers.CircleMarker at 0x7f3f1e2b2828>,\n",
       "  <folium.vector_layers.CircleMarker at 0x7f3f1e2b2860>,\n",
       "  <folium.vector_layers.CircleMarker at 0x7f3f1e2b2898>,\n",
       "  <folium.vector_layers.CircleMarker at 0x7f3f1e2b28d0>,\n",
       "  <folium.vector_layers.CircleMarker at 0x7f3f1e2b2908>,\n",
       "  <folium.vector_layers.CircleMarker at 0x7f3f1e2b2940>,\n",
       "  <folium.vector_layers.CircleMarker at 0x7f3f1e2b2978>,\n",
       "  <folium.vector_layers.CircleMarker at 0x7f3f1e2b29b0>,\n",
       "  <folium.vector_layers.CircleMarker at 0x7f3f1e2b29e8>,\n",
       "  <folium.vector_layers.CircleMarker at 0x7f3f1e2b2a20>,\n",
       "  <folium.vector_layers.CircleMarker at 0x7f3f1e2b2a58>,\n",
       "  <folium.vector_layers.CircleMarker at 0x7f3f1e2b2a90>,\n",
       "  <folium.vector_layers.CircleMarker at 0x7f3f1e2b2ac8>,\n",
       "  <folium.vector_layers.CircleMarker at 0x7f3f1e2b2b00>,\n",
       "  <folium.vector_layers.CircleMarker at 0x7f3f1e2b2b38>,\n",
       "  <folium.vector_layers.CircleMarker at 0x7f3f1e2b2b70>,\n",
       "  <folium.vector_layers.CircleMarker at 0x7f3f1e2b2ba8>,\n",
       "  <folium.vector_layers.CircleMarker at 0x7f3f1e2b2be0>,\n",
       "  <folium.vector_layers.CircleMarker at 0x7f3f1e2b2c18>,\n",
       "  <folium.vector_layers.CircleMarker at 0x7f3f1e2b2c50>,\n",
       "  <folium.vector_layers.CircleMarker at 0x7f3f1e2b2c88>,\n",
       "  <folium.vector_layers.CircleMarker at 0x7f3f1e2b2cc0>,\n",
       "  <folium.vector_layers.CircleMarker at 0x7f3f1e2b2cf8>,\n",
       "  <folium.vector_layers.CircleMarker at 0x7f3f1e2b2d30>,\n",
       "  <folium.vector_layers.CircleMarker at 0x7f3f1e2b2d68>,\n",
       "  <folium.vector_layers.CircleMarker at 0x7f3f1e2b2da0>,\n",
       "  <folium.vector_layers.CircleMarker at 0x7f3f1e2b2dd8>,\n",
       "  <folium.vector_layers.CircleMarker at 0x7f3f1e2b2e10>,\n",
       "  <folium.vector_layers.CircleMarker at 0x7f3f1e2b2e48>,\n",
       "  <folium.vector_layers.CircleMarker at 0x7f3f1e2b2e80>,\n",
       "  <folium.vector_layers.CircleMarker at 0x7f3f1e2b2eb8>,\n",
       "  <folium.vector_layers.CircleMarker at 0x7f3f1e2b2f28>,\n",
       "  <folium.vector_layers.CircleMarker at 0x7f3f1e2b2fd0>,\n",
       "  <folium.vector_layers.CircleMarker at 0x7f3f1e2b2f60>,\n",
       "  <folium.vector_layers.CircleMarker at 0x7f3f1e2b2ef0>,\n",
       "  <folium.vector_layers.CircleMarker at 0x7f3f1e2b2080>,\n",
       "  <folium.vector_layers.CircleMarker at 0x7f3f1e2b2f98>,\n",
       "  <folium.vector_layers.CircleMarker at 0x7f3f1e2c4048>,\n",
       "  <folium.vector_layers.CircleMarker at 0x7f3f1e2c40f0>,\n",
       "  <folium.vector_layers.CircleMarker at 0x7f3f1e2c4160>,\n",
       "  <folium.vector_layers.CircleMarker at 0x7f3f1e2c41d0>,\n",
       "  <folium.vector_layers.CircleMarker at 0x7f3f1e2c4208>,\n",
       "  <folium.vector_layers.CircleMarker at 0x7f3f1e2c4278>,\n",
       "  <folium.vector_layers.CircleMarker at 0x7f3f1e2c42e8>,\n",
       "  <folium.vector_layers.CircleMarker at 0x7f3f1e2c40b8>,\n",
       "  <folium.vector_layers.CircleMarker at 0x7f3f1e2c4128>,\n",
       "  <folium.vector_layers.CircleMarker at 0x7f3f1e2c4198>,\n",
       "  <folium.vector_layers.CircleMarker at 0x7f3f1e2c4240>,\n",
       "  <folium.vector_layers.CircleMarker at 0x7f3f1e2c42b0>,\n",
       "  <folium.vector_layers.CircleMarker at 0x7f3f1e2c4320>,\n",
       "  <folium.vector_layers.CircleMarker at 0x7f3f1e2c4358>,\n",
       "  <folium.vector_layers.CircleMarker at 0x7f3f1e2c4390>,\n",
       "  <folium.vector_layers.CircleMarker at 0x7f3f1e2c43c8>,\n",
       "  <folium.vector_layers.CircleMarker at 0x7f3f1e2c4400>,\n",
       "  <folium.vector_layers.CircleMarker at 0x7f3f1e2c4438>,\n",
       "  <folium.vector_layers.CircleMarker at 0x7f3f1e2c4470>,\n",
       "  <folium.vector_layers.CircleMarker at 0x7f3f1e2c44a8>,\n",
       "  <folium.vector_layers.CircleMarker at 0x7f3f1e2c44e0>,\n",
       "  <folium.vector_layers.CircleMarker at 0x7f3f1e2c4518>,\n",
       "  <folium.vector_layers.CircleMarker at 0x7f3f1e2c4550>,\n",
       "  <folium.vector_layers.CircleMarker at 0x7f3f1e2c4588>,\n",
       "  <folium.vector_layers.CircleMarker at 0x7f3f1e2c45c0>,\n",
       "  <folium.vector_layers.CircleMarker at 0x7f3f1e2c45f8>,\n",
       "  <folium.vector_layers.CircleMarker at 0x7f3f1e2c4630>,\n",
       "  <folium.vector_layers.CircleMarker at 0x7f3f1e2c4668>,\n",
       "  <folium.vector_layers.CircleMarker at 0x7f3f1e2c46a0>,\n",
       "  <folium.vector_layers.CircleMarker at 0x7f3f1e2c46d8>,\n",
       "  <folium.vector_layers.CircleMarker at 0x7f3f1e2c4710>,\n",
       "  <folium.vector_layers.CircleMarker at 0x7f3f1e2c4748>,\n",
       "  <folium.vector_layers.CircleMarker at 0x7f3f1e2c4780>,\n",
       "  <folium.vector_layers.CircleMarker at 0x7f3f1e2c47b8>,\n",
       "  <folium.vector_layers.CircleMarker at 0x7f3f1e2c47f0>,\n",
       "  <folium.vector_layers.CircleMarker at 0x7f3f1e2c4828>,\n",
       "  <folium.vector_layers.CircleMarker at 0x7f3f1e2c4860>,\n",
       "  <folium.vector_layers.CircleMarker at 0x7f3f1e2c4898>,\n",
       "  <folium.vector_layers.CircleMarker at 0x7f3f1e2c48d0>,\n",
       "  <folium.vector_layers.CircleMarker at 0x7f3f1e2c4908>,\n",
       "  <folium.vector_layers.CircleMarker at 0x7f3f1e2c4940>,\n",
       "  <folium.vector_layers.CircleMarker at 0x7f3f1e2c4978>,\n",
       "  <folium.vector_layers.CircleMarker at 0x7f3f1e2c49b0>,\n",
       "  <folium.vector_layers.CircleMarker at 0x7f3f1e2c49e8>,\n",
       "  <folium.vector_layers.CircleMarker at 0x7f3f1e2c4a20>,\n",
       "  <folium.vector_layers.CircleMarker at 0x7f3f1e2c4a58>,\n",
       "  <folium.vector_layers.CircleMarker at 0x7f3f1e2c4a90>,\n",
       "  <folium.vector_layers.CircleMarker at 0x7f3f1e2c4ac8>,\n",
       "  <folium.vector_layers.CircleMarker at 0x7f3f1e2c4b00>,\n",
       "  <folium.vector_layers.CircleMarker at 0x7f3f1e2c4b38>,\n",
       "  <folium.vector_layers.CircleMarker at 0x7f3f1e2c4b70>,\n",
       "  <folium.vector_layers.CircleMarker at 0x7f3f1e2c4ba8>,\n",
       "  <folium.vector_layers.CircleMarker at 0x7f3f1e2c4be0>,\n",
       "  <folium.vector_layers.CircleMarker at 0x7f3f1e2c4c18>,\n",
       "  <folium.vector_layers.CircleMarker at 0x7f3f1e2c4c50>,\n",
       "  <folium.vector_layers.CircleMarker at 0x7f3f1e2c4c88>,\n",
       "  <folium.vector_layers.CircleMarker at 0x7f3f1e2c4cc0>,\n",
       "  <folium.vector_layers.CircleMarker at 0x7f3f1e2c4cf8>,\n",
       "  <folium.vector_layers.CircleMarker at 0x7f3f1e2c4d30>,\n",
       "  <folium.vector_layers.CircleMarker at 0x7f3f1e2c4d68>,\n",
       "  <folium.vector_layers.CircleMarker at 0x7f3f1e2c4da0>,\n",
       "  <folium.vector_layers.CircleMarker at 0x7f3f1e2c4dd8>,\n",
       "  <folium.vector_layers.CircleMarker at 0x7f3f1e2c4e10>,\n",
       "  <folium.vector_layers.CircleMarker at 0x7f3f1e2c4e48>,\n",
       "  <folium.vector_layers.CircleMarker at 0x7f3f1e2c4e80>,\n",
       "  <folium.vector_layers.CircleMarker at 0x7f3f1e2c4eb8>,\n",
       "  <folium.vector_layers.CircleMarker at 0x7f3f1e2c4f28>,\n",
       "  <folium.vector_layers.CircleMarker at 0x7f3f1e2c4fd0>,\n",
       "  <folium.vector_layers.CircleMarker at 0x7f3f1e2c4f60>,\n",
       "  <folium.vector_layers.CircleMarker at 0x7f3f1e2c4ef0>,\n",
       "  <folium.vector_layers.CircleMarker at 0x7f3f1e2c4080>,\n",
       "  <folium.vector_layers.CircleMarker at 0x7f3f1e2c4f98>,\n",
       "  <folium.vector_layers.CircleMarker at 0x7f3f1e2d5048>,\n",
       "  <folium.vector_layers.CircleMarker at 0x7f3f1e2d50f0>,\n",
       "  <folium.vector_layers.CircleMarker at 0x7f3f1e2d5160>,\n",
       "  <folium.vector_layers.CircleMarker at 0x7f3f1e2d51d0>,\n",
       "  <folium.vector_layers.CircleMarker at 0x7f3f1e2d5208>,\n",
       "  <folium.vector_layers.CircleMarker at 0x7f3f1e2d5278>,\n",
       "  <folium.vector_layers.CircleMarker at 0x7f3f1e2d52e8>,\n",
       "  <folium.vector_layers.CircleMarker at 0x7f3f1e2d50b8>,\n",
       "  <folium.vector_layers.CircleMarker at 0x7f3f1e2d5128>,\n",
       "  <folium.vector_layers.CircleMarker at 0x7f3f1e2d5198>,\n",
       "  <folium.vector_layers.CircleMarker at 0x7f3f1e2d5240>,\n",
       "  <folium.vector_layers.CircleMarker at 0x7f3f1e2d52b0>,\n",
       "  <folium.vector_layers.CircleMarker at 0x7f3f1e2d5320>,\n",
       "  <folium.vector_layers.CircleMarker at 0x7f3f1e2d5358>,\n",
       "  <folium.vector_layers.CircleMarker at 0x7f3f1e2d5390>,\n",
       "  <folium.vector_layers.CircleMarker at 0x7f3f1e2d53c8>,\n",
       "  <folium.vector_layers.CircleMarker at 0x7f3f1e2d5400>,\n",
       "  <folium.vector_layers.CircleMarker at 0x7f3f1e2d5438>,\n",
       "  <folium.vector_layers.CircleMarker at 0x7f3f1e2d5470>,\n",
       "  <folium.vector_layers.CircleMarker at 0x7f3f1e2d54a8>,\n",
       "  <folium.vector_layers.CircleMarker at 0x7f3f1e2d54e0>,\n",
       "  <folium.vector_layers.CircleMarker at 0x7f3f1e2d5518>,\n",
       "  <folium.vector_layers.CircleMarker at 0x7f3f1e2d5550>,\n",
       "  <folium.vector_layers.CircleMarker at 0x7f3f1e2d5588>,\n",
       "  <folium.vector_layers.CircleMarker at 0x7f3f1e2d55c0>,\n",
       "  <folium.vector_layers.CircleMarker at 0x7f3f1e2d55f8>,\n",
       "  <folium.vector_layers.CircleMarker at 0x7f3f1e2d5630>,\n",
       "  <folium.vector_layers.CircleMarker at 0x7f3f1e2d5668>,\n",
       "  <folium.vector_layers.CircleMarker at 0x7f3f1e2d56a0>,\n",
       "  <folium.vector_layers.CircleMarker at 0x7f3f1e2d56d8>,\n",
       "  <folium.vector_layers.CircleMarker at 0x7f3f1e2d5710>,\n",
       "  <folium.vector_layers.CircleMarker at 0x7f3f1e2d5748>,\n",
       "  <folium.vector_layers.CircleMarker at 0x7f3f1e2d5780>,\n",
       "  <folium.vector_layers.CircleMarker at 0x7f3f1e2d57b8>,\n",
       "  <folium.vector_layers.CircleMarker at 0x7f3f1e2d57f0>,\n",
       "  <folium.vector_layers.CircleMarker at 0x7f3f1e2d5828>,\n",
       "  <folium.vector_layers.CircleMarker at 0x7f3f1e2d5860>,\n",
       "  <folium.vector_layers.CircleMarker at 0x7f3f1e2d5898>,\n",
       "  <folium.vector_layers.CircleMarker at 0x7f3f1e2d58d0>,\n",
       "  <folium.vector_layers.CircleMarker at 0x7f3f1e2d5908>,\n",
       "  <folium.vector_layers.CircleMarker at 0x7f3f1e2d5940>,\n",
       "  <folium.vector_layers.CircleMarker at 0x7f3f1e2d5978>,\n",
       "  <folium.vector_layers.CircleMarker at 0x7f3f1e2d59b0>,\n",
       "  <folium.vector_layers.CircleMarker at 0x7f3f1e2d59e8>,\n",
       "  <folium.vector_layers.CircleMarker at 0x7f3f1e2d5a20>,\n",
       "  <folium.vector_layers.CircleMarker at 0x7f3f1e2d5a58>,\n",
       "  <folium.vector_layers.CircleMarker at 0x7f3f1e2d5a90>,\n",
       "  <folium.vector_layers.CircleMarker at 0x7f3f1e2d5ac8>,\n",
       "  <folium.vector_layers.CircleMarker at 0x7f3f1e2d5b00>,\n",
       "  <folium.vector_layers.CircleMarker at 0x7f3f1e2d5b38>,\n",
       "  <folium.vector_layers.CircleMarker at 0x7f3f1e2d5b70>,\n",
       "  <folium.vector_layers.CircleMarker at 0x7f3f1e2d5ba8>,\n",
       "  <folium.vector_layers.CircleMarker at 0x7f3f1e2d5be0>,\n",
       "  <folium.vector_layers.CircleMarker at 0x7f3f1e2d5c18>,\n",
       "  <folium.vector_layers.CircleMarker at 0x7f3f1e2d5c50>,\n",
       "  <folium.vector_layers.CircleMarker at 0x7f3f1e2d5c88>,\n",
       "  <folium.vector_layers.CircleMarker at 0x7f3f1e2d5cc0>,\n",
       "  <folium.vector_layers.CircleMarker at 0x7f3f1e2d5cf8>,\n",
       "  <folium.vector_layers.CircleMarker at 0x7f3f1e2d5d30>,\n",
       "  <folium.vector_layers.CircleMarker at 0x7f3f1e2d5d68>,\n",
       "  <folium.vector_layers.CircleMarker at 0x7f3f1e2d5da0>,\n",
       "  <folium.vector_layers.CircleMarker at 0x7f3f1e2d5dd8>,\n",
       "  <folium.vector_layers.CircleMarker at 0x7f3f1e2d5e10>,\n",
       "  <folium.vector_layers.CircleMarker at 0x7f3f1e2d5e48>,\n",
       "  <folium.vector_layers.CircleMarker at 0x7f3f1e2d5e80>,\n",
       "  <folium.vector_layers.CircleMarker at 0x7f3f1e2d5eb8>,\n",
       "  <folium.vector_layers.CircleMarker at 0x7f3f1e2d5f28>,\n",
       "  <folium.vector_layers.CircleMarker at 0x7f3f1e2d5fd0>,\n",
       "  <folium.vector_layers.CircleMarker at 0x7f3f1e2d5f60>,\n",
       "  <folium.vector_layers.CircleMarker at 0x7f3f1e2d5ef0>,\n",
       "  <folium.vector_layers.CircleMarker at 0x7f3f1e2d5080>,\n",
       "  <folium.vector_layers.CircleMarker at 0x7f3f1e2d5f98>,\n",
       "  <folium.vector_layers.CircleMarker at 0x7f3f1e264048>,\n",
       "  <folium.vector_layers.CircleMarker at 0x7f3f1e2640f0>,\n",
       "  <folium.vector_layers.CircleMarker at 0x7f3f1e264160>,\n",
       "  <folium.vector_layers.CircleMarker at 0x7f3f1e2641d0>,\n",
       "  <folium.vector_layers.CircleMarker at 0x7f3f1e264208>,\n",
       "  <folium.vector_layers.CircleMarker at 0x7f3f1e264278>,\n",
       "  <folium.vector_layers.CircleMarker at 0x7f3f1e2642e8>,\n",
       "  <folium.vector_layers.CircleMarker at 0x7f3f1e2640b8>,\n",
       "  <folium.vector_layers.CircleMarker at 0x7f3f1e264128>,\n",
       "  <folium.vector_layers.CircleMarker at 0x7f3f1e264198>,\n",
       "  <folium.vector_layers.CircleMarker at 0x7f3f1e264240>,\n",
       "  <folium.vector_layers.CircleMarker at 0x7f3f1e2642b0>,\n",
       "  <folium.vector_layers.CircleMarker at 0x7f3f1e264320>,\n",
       "  <folium.vector_layers.CircleMarker at 0x7f3f1e264358>,\n",
       "  <folium.vector_layers.CircleMarker at 0x7f3f1e264390>,\n",
       "  <folium.vector_layers.CircleMarker at 0x7f3f1e2643c8>,\n",
       "  <folium.vector_layers.CircleMarker at 0x7f3f1e264400>,\n",
       "  <folium.vector_layers.CircleMarker at 0x7f3f1e264438>,\n",
       "  <folium.vector_layers.CircleMarker at 0x7f3f1e264470>,\n",
       "  <folium.vector_layers.CircleMarker at 0x7f3f1e2644a8>,\n",
       "  <folium.vector_layers.CircleMarker at 0x7f3f1e2644e0>,\n",
       "  <folium.vector_layers.CircleMarker at 0x7f3f1e264518>,\n",
       "  <folium.vector_layers.CircleMarker at 0x7f3f1e264550>,\n",
       "  <folium.vector_layers.CircleMarker at 0x7f3f1e264588>,\n",
       "  <folium.vector_layers.CircleMarker at 0x7f3f1e2645c0>,\n",
       "  <folium.vector_layers.CircleMarker at 0x7f3f1e2645f8>,\n",
       "  <folium.vector_layers.CircleMarker at 0x7f3f1e264630>,\n",
       "  <folium.vector_layers.CircleMarker at 0x7f3f1e264668>,\n",
       "  <folium.vector_layers.CircleMarker at 0x7f3f1e2646a0>,\n",
       "  <folium.vector_layers.CircleMarker at 0x7f3f1e2646d8>,\n",
       "  <folium.vector_layers.CircleMarker at 0x7f3f1e264710>,\n",
       "  <folium.vector_layers.CircleMarker at 0x7f3f1e264748>,\n",
       "  <folium.vector_layers.CircleMarker at 0x7f3f1e264780>,\n",
       "  <folium.vector_layers.CircleMarker at 0x7f3f1e2647b8>,\n",
       "  <folium.vector_layers.CircleMarker at 0x7f3f1e2647f0>,\n",
       "  <folium.vector_layers.CircleMarker at 0x7f3f1e264828>,\n",
       "  <folium.vector_layers.CircleMarker at 0x7f3f1e264860>,\n",
       "  <folium.vector_layers.CircleMarker at 0x7f3f1e264898>,\n",
       "  <folium.vector_layers.CircleMarker at 0x7f3f1e2648d0>,\n",
       "  <folium.vector_layers.CircleMarker at 0x7f3f1e264908>,\n",
       "  <folium.vector_layers.CircleMarker at 0x7f3f1e264940>,\n",
       "  <folium.vector_layers.CircleMarker at 0x7f3f1e264978>,\n",
       "  <folium.vector_layers.CircleMarker at 0x7f3f1e2649b0>,\n",
       "  <folium.vector_layers.CircleMarker at 0x7f3f1e2649e8>,\n",
       "  <folium.vector_layers.CircleMarker at 0x7f3f1e264a20>,\n",
       "  <folium.vector_layers.CircleMarker at 0x7f3f1e264a58>,\n",
       "  <folium.vector_layers.CircleMarker at 0x7f3f1e264a90>,\n",
       "  <folium.vector_layers.CircleMarker at 0x7f3f1e264ac8>,\n",
       "  <folium.vector_layers.CircleMarker at 0x7f3f1e264b00>,\n",
       "  <folium.vector_layers.CircleMarker at 0x7f3f1e264b38>,\n",
       "  <folium.vector_layers.CircleMarker at 0x7f3f1e264b70>,\n",
       "  <folium.vector_layers.CircleMarker at 0x7f3f1e264ba8>,\n",
       "  <folium.vector_layers.CircleMarker at 0x7f3f1e264be0>,\n",
       "  <folium.vector_layers.CircleMarker at 0x7f3f1e264c18>,\n",
       "  <folium.vector_layers.CircleMarker at 0x7f3f1e264c50>,\n",
       "  <folium.vector_layers.CircleMarker at 0x7f3f1e264c88>,\n",
       "  <folium.vector_layers.CircleMarker at 0x7f3f1e264cc0>,\n",
       "  <folium.vector_layers.CircleMarker at 0x7f3f1e264cf8>,\n",
       "  <folium.vector_layers.CircleMarker at 0x7f3f1e264d30>,\n",
       "  <folium.vector_layers.CircleMarker at 0x7f3f1e264d68>,\n",
       "  <folium.vector_layers.CircleMarker at 0x7f3f1e264da0>,\n",
       "  <folium.vector_layers.CircleMarker at 0x7f3f1e264dd8>,\n",
       "  <folium.vector_layers.CircleMarker at 0x7f3f1e264e10>,\n",
       "  <folium.vector_layers.CircleMarker at 0x7f3f1e264e48>,\n",
       "  <folium.vector_layers.CircleMarker at 0x7f3f1e264e80>,\n",
       "  <folium.vector_layers.CircleMarker at 0x7f3f1e264eb8>,\n",
       "  <folium.vector_layers.CircleMarker at 0x7f3f1e264f28>,\n",
       "  <folium.vector_layers.CircleMarker at 0x7f3f1e264fd0>,\n",
       "  <folium.vector_layers.CircleMarker at 0x7f3f1e264f60>,\n",
       "  <folium.vector_layers.CircleMarker at 0x7f3f1e264ef0>,\n",
       "  <folium.vector_layers.CircleMarker at 0x7f3f1e264080>,\n",
       "  <folium.vector_layers.CircleMarker at 0x7f3f1e264f98>,\n",
       "  <folium.vector_layers.CircleMarker at 0x7f3f1e272048>,\n",
       "  <folium.vector_layers.CircleMarker at 0x7f3f1e2720f0>,\n",
       "  <folium.vector_layers.CircleMarker at 0x7f3f1e272160>,\n",
       "  <folium.vector_layers.CircleMarker at 0x7f3f1e2721d0>,\n",
       "  <folium.vector_layers.CircleMarker at 0x7f3f1e272208>,\n",
       "  <folium.vector_layers.CircleMarker at 0x7f3f1e272278>,\n",
       "  <folium.vector_layers.CircleMarker at 0x7f3f1e2722e8>,\n",
       "  <folium.vector_layers.CircleMarker at 0x7f3f1e2720b8>,\n",
       "  <folium.vector_layers.CircleMarker at 0x7f3f1e272128>,\n",
       "  <folium.vector_layers.CircleMarker at 0x7f3f1e272198>,\n",
       "  <folium.vector_layers.CircleMarker at 0x7f3f1e272240>,\n",
       "  <folium.vector_layers.CircleMarker at 0x7f3f1e2722b0>,\n",
       "  <folium.vector_layers.CircleMarker at 0x7f3f1e272320>,\n",
       "  <folium.vector_layers.CircleMarker at 0x7f3f1e272358>,\n",
       "  <folium.vector_layers.CircleMarker at 0x7f3f1e272390>,\n",
       "  <folium.vector_layers.CircleMarker at 0x7f3f1e2723c8>,\n",
       "  <folium.vector_layers.CircleMarker at 0x7f3f1e272400>,\n",
       "  <folium.vector_layers.CircleMarker at 0x7f3f1e272438>,\n",
       "  <folium.vector_layers.CircleMarker at 0x7f3f1e272470>,\n",
       "  <folium.vector_layers.CircleMarker at 0x7f3f1e2724a8>,\n",
       "  <folium.vector_layers.CircleMarker at 0x7f3f1e2724e0>,\n",
       "  <folium.vector_layers.CircleMarker at 0x7f3f1e272518>,\n",
       "  <folium.vector_layers.CircleMarker at 0x7f3f1e272550>,\n",
       "  <folium.vector_layers.CircleMarker at 0x7f3f1e272588>,\n",
       "  <folium.vector_layers.CircleMarker at 0x7f3f1e2725c0>,\n",
       "  <folium.vector_layers.CircleMarker at 0x7f3f1e2725f8>,\n",
       "  <folium.vector_layers.CircleMarker at 0x7f3f1e272630>,\n",
       "  <folium.vector_layers.CircleMarker at 0x7f3f1e272668>,\n",
       "  <folium.vector_layers.CircleMarker at 0x7f3f1e2726a0>,\n",
       "  <folium.vector_layers.CircleMarker at 0x7f3f1e2726d8>,\n",
       "  <folium.vector_layers.CircleMarker at 0x7f3f1e272710>,\n",
       "  <folium.vector_layers.CircleMarker at 0x7f3f1e272748>,\n",
       "  <folium.vector_layers.CircleMarker at 0x7f3f1e272780>,\n",
       "  <folium.vector_layers.CircleMarker at 0x7f3f1e2727b8>,\n",
       "  <folium.vector_layers.CircleMarker at 0x7f3f1e2727f0>,\n",
       "  <folium.vector_layers.CircleMarker at 0x7f3f1e272828>,\n",
       "  <folium.vector_layers.CircleMarker at 0x7f3f1e272860>,\n",
       "  <folium.vector_layers.CircleMarker at 0x7f3f1e272898>,\n",
       "  <folium.vector_layers.CircleMarker at 0x7f3f1e2728d0>,\n",
       "  <folium.vector_layers.CircleMarker at 0x7f3f1e272908>,\n",
       "  <folium.vector_layers.CircleMarker at 0x7f3f1e272940>,\n",
       "  <folium.vector_layers.CircleMarker at 0x7f3f1e272978>,\n",
       "  <folium.vector_layers.CircleMarker at 0x7f3f1e2729b0>,\n",
       "  <folium.vector_layers.CircleMarker at 0x7f3f1e2729e8>,\n",
       "  <folium.vector_layers.CircleMarker at 0x7f3f1e272a20>,\n",
       "  <folium.vector_layers.CircleMarker at 0x7f3f1e272a58>,\n",
       "  <folium.vector_layers.CircleMarker at 0x7f3f1e272a90>,\n",
       "  <folium.vector_layers.CircleMarker at 0x7f3f1e272ac8>,\n",
       "  <folium.vector_layers.CircleMarker at 0x7f3f1e272b00>,\n",
       "  <folium.vector_layers.CircleMarker at 0x7f3f1e272b38>,\n",
       "  <folium.vector_layers.CircleMarker at 0x7f3f1e272b70>,\n",
       "  <folium.vector_layers.CircleMarker at 0x7f3f1e272ba8>,\n",
       "  <folium.vector_layers.CircleMarker at 0x7f3f1e272be0>,\n",
       "  <folium.vector_layers.CircleMarker at 0x7f3f1e272c18>,\n",
       "  <folium.vector_layers.CircleMarker at 0x7f3f1e272c50>,\n",
       "  <folium.vector_layers.CircleMarker at 0x7f3f1e272c88>,\n",
       "  <folium.vector_layers.CircleMarker at 0x7f3f1e272cc0>,\n",
       "  <folium.vector_layers.CircleMarker at 0x7f3f1e272cf8>,\n",
       "  <folium.vector_layers.CircleMarker at 0x7f3f1e272d30>,\n",
       "  <folium.vector_layers.CircleMarker at 0x7f3f1e272d68>,\n",
       "  <folium.vector_layers.CircleMarker at 0x7f3f1e272da0>,\n",
       "  <folium.vector_layers.CircleMarker at 0x7f3f1e272dd8>,\n",
       "  <folium.vector_layers.CircleMarker at 0x7f3f1e272e10>,\n",
       "  <folium.vector_layers.CircleMarker at 0x7f3f1e272e48>,\n",
       "  <folium.vector_layers.CircleMarker at 0x7f3f1e272e80>,\n",
       "  <folium.vector_layers.CircleMarker at 0x7f3f1e272eb8>,\n",
       "  <folium.vector_layers.CircleMarker at 0x7f3f1e272f28>,\n",
       "  <folium.vector_layers.CircleMarker at 0x7f3f1e272fd0>,\n",
       "  <folium.vector_layers.CircleMarker at 0x7f3f1e272f60>,\n",
       "  <folium.vector_layers.CircleMarker at 0x7f3f1e272ef0>,\n",
       "  <folium.vector_layers.CircleMarker at 0x7f3f1e272080>,\n",
       "  <folium.vector_layers.CircleMarker at 0x7f3f1e272f98>,\n",
       "  <folium.vector_layers.CircleMarker at 0x7f3f1e286048>,\n",
       "  <folium.vector_layers.CircleMarker at 0x7f3f1e2860f0>,\n",
       "  <folium.vector_layers.CircleMarker at 0x7f3f1e286160>,\n",
       "  <folium.vector_layers.CircleMarker at 0x7f3f1e2861d0>,\n",
       "  <folium.vector_layers.CircleMarker at 0x7f3f1e286208>,\n",
       "  <folium.vector_layers.CircleMarker at 0x7f3f1e286278>,\n",
       "  <folium.vector_layers.CircleMarker at 0x7f3f1e2862e8>,\n",
       "  <folium.vector_layers.CircleMarker at 0x7f3f1e2860b8>,\n",
       "  <folium.vector_layers.CircleMarker at 0x7f3f1e286128>,\n",
       "  <folium.vector_layers.CircleMarker at 0x7f3f1e286198>,\n",
       "  <folium.vector_layers.CircleMarker at 0x7f3f1e286240>,\n",
       "  <folium.vector_layers.CircleMarker at 0x7f3f1e2862b0>,\n",
       "  <folium.vector_layers.CircleMarker at 0x7f3f1e286320>,\n",
       "  <folium.vector_layers.CircleMarker at 0x7f3f1e286358>,\n",
       "  <folium.vector_layers.CircleMarker at 0x7f3f1e286390>,\n",
       "  <folium.vector_layers.CircleMarker at 0x7f3f1e2863c8>,\n",
       "  <folium.vector_layers.CircleMarker at 0x7f3f1e286400>,\n",
       "  <folium.vector_layers.CircleMarker at 0x7f3f1e286438>],\n",
       " <folium.folium.Map at 0x7f3f1d1d8320>)"
      ]
     },
     "execution_count": 66,
     "metadata": {},
     "output_type": "execute_result"
    }
   ],
   "source": [
    "map_with_markers"
   ]
  },
  {
   "cell_type": "markdown",
   "metadata": {},
   "source": [
    "### Using Nearest Neighbors"
   ]
  },
  {
   "cell_type": "markdown",
   "metadata": {},
   "source": [
    "Ok, let's write a function that given a latitude and longitude will predict the distance for us.  We'll do this by first finding the nearest trips given a latitude and longitude. "
   ]
  },
  {
   "cell_type": "markdown",
   "metadata": {},
   "source": [
    "Here we once again apply the nearest neighbors formula. As a first step, write a function named `distance_location` that calculates the distance in pickup location between two trips."
   ]
  },
  {
   "cell_type": "code",
   "execution_count": null,
   "metadata": {},
   "outputs": [],
   "source": [
    "import math\n",
    "\n",
    "def distance_location(selected_trip, neighbor_trip):\n",
    "    pass"
   ]
  },
  {
   "cell_type": "code",
   "execution_count": null,
   "metadata": {},
   "outputs": [],
   "source": [
    "first_trip = {'pickup_latitude': 40.64499, 'pickup_longitude': -73.78115, 'trip_distance': 18.38}\n",
    "second_trip = {'pickup_latitude': 40.766931, 'pickup_longitude': -73.982098, 'trip_distance': 1.3}\n",
    "distance_first_and_second = distance_location(first_trip, second_trip)\n",
    "\n",
    "distance_first_and_second and round(distance_first_and_second, 3) # 0.235"
   ]
  },
  {
   "cell_type": "markdown",
   "metadata": {},
   "source": [
    "Ok, next write a function called `distance_between_neighbors` that adds a new key-value pair, called `distance_from_selected`, that calculates the distance of the `neighbor_trip` from the `selected_trip`."
   ]
  },
  {
   "cell_type": "code",
   "execution_count": null,
   "metadata": {},
   "outputs": [],
   "source": [
    "def distance_between_neighbors(selected_trip, neighbor_trip):\n",
    "    pass"
   ]
  },
  {
   "cell_type": "code",
   "execution_count": null,
   "metadata": {},
   "outputs": [],
   "source": [
    "distance_between_neighbors(first_trip, second_trip)\n",
    "\n",
    "# {'distance_from_selected': 0.23505256047318146,\n",
    "#  'pickup_latitude': 40.766931,\n",
    "#  'pickup_longitude': -73.982098,\n",
    "#  'trip_distance': 1.3}"
   ]
  },
  {
   "cell_type": "markdown",
   "metadata": {},
   "source": [
    "Ok, now our `neighbor_trip` has another attribute called `distance_from_selected`, that indicates the distance from the `neighbor_trip`'s pickup location from the `selected_trip`."
   ]
  },
  {
   "cell_type": "markdown",
   "metadata": {},
   "source": [
    "> ** Understand the data:** Our dictionary now has a few attributes, two of which say distance.  Let's make sure we understand the difference. \n",
    "> * **`distance_from_selected`:** This is our calculation of the distance of the neighbor's pickup location from the selected trip.\n",
    "> * **`trip_distance`:** This is the attribute we were provided initially.  It tells us the length of the neighbor's taxi trip from pickup to drop-off.  "
   ]
  },
  {
   "cell_type": "markdown",
   "metadata": {},
   "source": [
    "Next, write a function called `distance_all` that provided a list of neighbors, returns each of those neighbors with their respective `distance_from_selected` numbers."
   ]
  },
  {
   "cell_type": "code",
   "execution_count": null,
   "metadata": {},
   "outputs": [],
   "source": [
    "def distance_all(selected_individual, neighbors):\n",
    "    pass"
   ]
  },
  {
   "cell_type": "code",
   "execution_count": null,
   "metadata": {},
   "outputs": [],
   "source": [
    "cleaned_trips and distance_all(first_trip, cleaned_trips[0:4])"
   ]
  },
  {
   "cell_type": "markdown",
   "metadata": {},
   "source": [
    "Now write the nearest neighbors formula to calculate the distance of the `selected_trip` from all of the `cleaned_trips` in our dataset.  If no number is provided, it should return the top 3 neighbors."
   ]
  },
  {
   "cell_type": "code",
   "execution_count": null,
   "metadata": {},
   "outputs": [],
   "source": [
    "def nearest_neighbors(selected_trip, trips, number = 3):\n",
    "    pass"
   ]
  },
  {
   "cell_type": "code",
   "execution_count": null,
   "metadata": {},
   "outputs": [],
   "source": [
    "new_trip = {'pickup_latitude': 40.64499,\n",
    "'pickup_longitude': -73.78115,\n",
    "'trip_distance': 18.38}\n",
    "\n",
    "nearest_three_neighbors = nearest_neighbors(new_trip, cleaned_trips or [], number = 3)\n",
    "nearest_three_neighbors\n",
    "# [{'distance_from_selected': 0.0004569288784918792,\n",
    "#   'pickup_latitude': 40.64483,\n",
    "#   'pickup_longitude': -73.781578,\n",
    "#   'trip_distance': 7.78},\n",
    "#  {'distance_from_selected': 0.0011292165425673159,\n",
    "#   'pickup_latitude': 40.644657,\n",
    "#   'pickup_longitude': -73.782229,\n",
    "#   'trip_distance': 12.7},\n",
    "#  {'distance_from_selected': 0.0042359798158141185,\n",
    "#   'pickup_latitude': 40.648509,\n",
    "#   'pickup_longitude': -73.783508,\n",
    "#   'trip_distance': 17.3}]"
   ]
  },
  {
   "cell_type": "markdown",
   "metadata": {},
   "source": [
    "Ok great! Now that we can provide a new trip location, and find the distances of the three nearest trips, we can take  calculate an estimate of the trip distance for that new trip location.  \n",
    "\n",
    "We do so simply by calculating the average of it's nearest neighbors."
   ]
  },
  {
   "cell_type": "code",
   "execution_count": null,
   "metadata": {},
   "outputs": [],
   "source": [
    "import statistics\n",
    "def mean_distance(neighbors):\n",
    "    nearest_distances = list(map(lambda neighbor: neighbor['trip_distance'], neighbors))\n",
    "    return round(statistics.mean(nearest_distances), 3)\n",
    "\n",
    "nearest_three_neighbors = nearest_neighbors(new_trip, cleaned_trips or [], number = 3)\n",
    "distance_estimate_of_selected_trip = mean_distance(nearest_three_neighbors) # 12.593\n",
    "distance_estimate_of_selected_trip"
   ]
  },
  {
   "cell_type": "markdown",
   "metadata": {},
   "source": [
    "### Choosing the correct number of neighbors"
   ]
  },
  {
   "cell_type": "markdown",
   "metadata": {},
   "source": [
    "Now, as we know from the last lesson, one tricky element is to determine how many neighbors to choose, our $k$ value,  before calculating the average.  We want to choose our value of $k$ such that it properly matches actual data, and so that it applies to new data.  There are fancy formulas to ensure that we **train** our algorithm so that our formula is optimized for all data, but here let's see different $k$ values manually.  This is the gist of choosing our $k$ value:\n",
    "\n",
    "* If we choose a $k$ value too low, our formula will be too heavily influenced by a single neighbor, whereas if our $k$ value is too high, we will be choosing so many neighbors that our nearest neighbors formula will not be adjust enough according to locations.\n",
    "\n",
    "Ok, let's experiment with this."
   ]
  },
  {
   "cell_type": "markdown",
   "metadata": {},
   "source": [
    "First, let's choose a midtown location, to see what the trip distance would be.  A Google search reveals the coordinates of 51st and 7th avenue to be the following."
   ]
  },
  {
   "cell_type": "code",
   "execution_count": null,
   "metadata": {},
   "outputs": [],
   "source": [
    "midtown_trip = dict(pickup_latitude=40.761710, pickup_longitude=-73.982760)"
   ]
  },
  {
   "cell_type": "code",
   "execution_count": null,
   "metadata": {},
   "outputs": [],
   "source": [
    "seven_closest = nearest_neighbors(midtown_trip, cleaned_trips, number = 7)\n",
    "seven_closest\n",
    "# [{'trip_distance': 0.58,\n",
    "#   'pickup_latitude': 40.761372,\n",
    "#   'pickup_longitude': -73.982602,\n",
    "#   'distance_from_selected': 0.00037310588309379025},\n",
    "#  {'trip_distance': 0.8,\n",
    "#   'pickup_latitude': 40.762444,\n",
    "#   'pickup_longitude': -73.98244,\n",
    "#   'distance_from_selected': 0.00080072217404248},\n",
    "#  {'trip_distance': 1.4,\n",
    "#   'pickup_latitude': 40.762767,\n",
    "#   'pickup_longitude': -73.982293,\n",
    "#   'distance_from_selected': 0.0011555682584735844},\n",
    "#  {'trip_distance': 8.3,\n",
    "#   'pickup_latitude': 40.762868,\n",
    "#   'pickup_longitude': -73.983233,\n",
    "#   'distance_from_selected': 0.0012508768924205918},\n",
    "#  {'trip_distance': 1.26,\n",
    "#   'pickup_latitude': 40.760057,\n",
    "#   'pickup_longitude': -73.983502,\n",
    "#   'distance_from_selected': 0.0018118976240381972},\n",
    "#  {'trip_distance': 0.0,\n",
    "#   'pickup_latitude': 40.760644,\n",
    "#   'pickup_longitude': -73.984531,\n",
    "#   'distance_from_selected': 0.002067074502774709},\n",
    "#  {'trip_distance': 1.72,\n",
    "#   'pickup_latitude': 40.762107,\n",
    "#   'pickup_longitude': -73.98479,\n",
    "#   'distance_from_selected': 0.0020684557041472677}]"
   ]
  },
  {
   "cell_type": "markdown",
   "metadata": {},
   "source": [
    "Looking at the `distance_from_selected` it appears that our our trips are still fairly close to our selected trip.  Notice that most of the data is within a distance of .002 away, so going to the top 7 nearest neighbors didn't seem to give us neighbors too far from each other, which is a good sign.\n",
    "\n",
    "Still, it's hard to know what distance in latitude and longitude really look like, so let's map the data. "
   ]
  },
  {
   "cell_type": "code",
   "execution_count": null,
   "metadata": {},
   "outputs": [],
   "source": [
    "midtown_location = location(midtown_trip) # [40.76171, -73.98276]\n",
    "midtown_map = map_from(midtown_location, 16)\n",
    "closest_markers = markers_from_trips(seven_closest)\n",
    "\n",
    "add_markers(closest_markers, midtown_map)"
   ]
  },
  {
   "cell_type": "markdown",
   "metadata": {},
   "source": [
    "Ok.  These locations stay fairly close to our estimated location of 51st street and 7th Avenue.  So they could be a good estimate of a trip distance."
   ]
  },
  {
   "cell_type": "code",
   "execution_count": null,
   "metadata": {},
   "outputs": [],
   "source": [
    "mean_distance(seven_closest) # 2.009"
   ]
  },
  {
   "cell_type": "markdown",
   "metadata": {},
   "source": [
    "Ok, now let's try a different location"
   ]
  },
  {
   "cell_type": "code",
   "execution_count": null,
   "metadata": {},
   "outputs": [],
   "source": [
    "charging_bull_closest = nearest_neighbors({'pickup_latitude': 40.7049, 'pickup_longitude': -74.0137}, cleaned_trips, number = 12)"
   ]
  },
  {
   "cell_type": "code",
   "execution_count": null,
   "metadata": {
    "scrolled": true
   },
   "outputs": [],
   "source": [
    "mean_distance(charging_bull_closest) # 3.145"
   ]
  },
  {
   "cell_type": "markdown",
   "metadata": {},
   "source": [
    "Ok, so there appears to be a significant difference between choosing a location near Times Square versus choosing a location at Wall Street."
   ]
  },
  {
   "cell_type": "markdown",
   "metadata": {},
   "source": [
    "### Summary"
   ]
  },
  {
   "cell_type": "markdown",
   "metadata": {},
   "source": [
    "In this lab, we used the nearest neighbors function to predict the length of a taxi ride.  To do so, we selected a location, then found a number of taxi rides closest to that location, and finally took the average trip lengths of the nearest taxi rides to find an estimate of the new ride's trip length.  You can see that even with just a little bit of math and programming we can begin to make meaningful predictions with data."
   ]
  }
 ],
 "metadata": {
  "kernelspec": {
   "display_name": "Python 3",
   "language": "python",
   "name": "python3"
  },
  "language_info": {
   "codemirror_mode": {
    "name": "ipython",
    "version": 3
   },
   "file_extension": ".py",
   "mimetype": "text/x-python",
   "name": "python",
   "nbconvert_exporter": "python",
   "pygments_lexer": "ipython3",
   "version": "3.6.9"
  }
 },
 "nbformat": 4,
 "nbformat_minor": 2
}
